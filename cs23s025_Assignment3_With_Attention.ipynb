{
 "cells": [
  {
   "cell_type": "code",
   "execution_count": null,
   "metadata": {
    "_cell_guid": "b1076dfc-b9ad-4769-8c92-a6c4dae69d19",
    "_uuid": "8f2839f25d086af736a60e9eeb907d3b93b6e0e5",
    "execution": {
     "iopub.execute_input": "2025-05-17T16:19:07.109581Z",
     "iopub.status.busy": "2025-05-17T16:19:07.109153Z",
     "iopub.status.idle": "2025-05-17T16:19:13.782033Z",
     "shell.execute_reply": "2025-05-17T16:19:13.781291Z",
     "shell.execute_reply.started": "2025-05-17T16:19:07.109558Z"
    },
    "trusted": true
   },
   "outputs": [],
   "source": [
    "import torch\n",
    "from torch import nn\n",
    "import pandas as pd\n",
    "import torch.optim as optim\n",
    "import torch.nn.functional as F\n",
    "import copy\n",
    "from torch.utils.data import Dataset, DataLoader\n",
    "import random\n",
    "import wandb\n",
    "torch.manual_seed(42)"
   ]
  },
  {
   "cell_type": "code",
   "execution_count": 2,
   "metadata": {
    "execution": {
     "iopub.execute_input": "2025-05-17T16:19:13.783861Z",
     "iopub.status.busy": "2025-05-17T16:19:13.783522Z",
     "iopub.status.idle": "2025-05-17T16:19:19.965204Z",
     "shell.execute_reply": "2025-05-17T16:19:19.964630Z",
     "shell.execute_reply.started": "2025-05-17T16:19:13.783842Z"
    },
    "trusted": true
   },
   "outputs": [
    {
     "name": "stderr",
     "output_type": "stream",
     "text": [
      "\u001b[34m\u001b[1mwandb\u001b[0m: Using wandb-core as the SDK backend.  Please refer to https://wandb.me/wandb-core for more information.\n",
      "\u001b[34m\u001b[1mwandb\u001b[0m: \u001b[33mWARNING\u001b[0m If you're specifying your api key in code, ensure this code is not shared publicly.\n",
      "\u001b[34m\u001b[1mwandb\u001b[0m: \u001b[33mWARNING\u001b[0m Consider setting the WANDB_API_KEY environment variable, or running `wandb login` from the command line.\n",
      "\u001b[34m\u001b[1mwandb\u001b[0m: No netrc file found, creating one.\n",
      "\u001b[34m\u001b[1mwandb\u001b[0m: Appending key for api.wandb.ai to your netrc file: /root/.netrc\n",
      "\u001b[34m\u001b[1mwandb\u001b[0m: Currently logged in as: \u001b[33mcs23s025\u001b[0m (\u001b[33mcs23s025-indian-institute-of-technology-madras\u001b[0m) to \u001b[32mhttps://api.wandb.ai\u001b[0m. Use \u001b[1m`wandb login --relogin`\u001b[0m to force relogin\n"
     ]
    },
    {
     "data": {
      "text/plain": [
       "True"
      ]
     },
     "execution_count": 2,
     "metadata": {},
     "output_type": "execute_result"
    }
   ],
   "source": [
    "wandb.login(key=\"b4dc866a06ba17317c20de0d13c1a64cc23096dd\")"
   ]
  },
  {
   "cell_type": "code",
   "execution_count": 3,
   "metadata": {
    "execution": {
     "iopub.execute_input": "2025-05-17T16:19:19.966320Z",
     "iopub.status.busy": "2025-05-17T16:19:19.965882Z",
     "iopub.status.idle": "2025-05-17T16:19:20.026658Z",
     "shell.execute_reply": "2025-05-17T16:19:20.026040Z",
     "shell.execute_reply.started": "2025-05-17T16:19:19.966297Z"
    },
    "trusted": true
   },
   "outputs": [],
   "source": [
    "device = torch.device(\"cuda\" if torch.cuda.is_available() else \"cpu\")"
   ]
  },
  {
   "cell_type": "code",
   "execution_count": 4,
   "metadata": {
    "execution": {
     "iopub.execute_input": "2025-05-17T16:19:20.027748Z",
     "iopub.status.busy": "2025-05-17T16:19:20.027437Z",
     "iopub.status.idle": "2025-05-17T16:19:20.043993Z",
     "shell.execute_reply": "2025-05-17T16:19:20.043373Z",
     "shell.execute_reply.started": "2025-05-17T16:19:20.027723Z"
    },
    "trusted": true
   },
   "outputs": [],
   "source": [
    "# File paths\n",
    "train_csv = \"/kaggle/input/dakshina-dataset-hindi/DakshinaDataSet_Hindi/hindi_Train_dataset.csv\"\n",
    "test_csv = \"/kaggle/input/dakshina-dataset-hindi/DakshinaDataSet_Hindi/hindi_Test_dataset.csv\"\n",
    "val_csv = \"/kaggle/input/dakshina-dataset-hindi/DakshinaDataSet_Hindi/hindi_Validation_dataset.csv\""
   ]
  },
  {
   "cell_type": "code",
   "execution_count": 5,
   "metadata": {
    "execution": {
     "iopub.execute_input": "2025-05-17T16:19:20.046083Z",
     "iopub.status.busy": "2025-05-17T16:19:20.045888Z",
     "iopub.status.idle": "2025-05-17T16:19:20.169787Z",
     "shell.execute_reply": "2025-05-17T16:19:20.169274Z",
     "shell.execute_reply.started": "2025-05-17T16:19:20.046068Z"
    },
    "trusted": true
   },
   "outputs": [],
   "source": [
    "train_data = pd.read_csv(train_csv, header=None)\n",
    "train_input = train_data[0].to_numpy()\n",
    "train_output = train_data[1].to_numpy()\n",
    "val_data = pd.read_csv(val_csv, header=None)\n",
    "val_input = val_data[0].to_numpy()\n",
    "val_output = val_data[1].to_numpy()\n",
    "test_data = pd.read_csv(test_csv, header=None)"
   ]
  },
  {
   "cell_type": "code",
   "execution_count": 6,
   "metadata": {
    "execution": {
     "iopub.execute_input": "2025-05-17T16:19:20.170641Z",
     "iopub.status.busy": "2025-05-17T16:19:20.170424Z",
     "iopub.status.idle": "2025-05-17T16:19:20.180275Z",
     "shell.execute_reply": "2025-05-17T16:19:20.179680Z",
     "shell.execute_reply.started": "2025-05-17T16:19:20.170615Z"
    },
    "trusted": true
   },
   "outputs": [],
   "source": [
    "def pre_processing(train_input, train_output):\n",
    "    data = {\n",
    "        \"all_characters\": [],\n",
    "        \"char_num_map\": {},\n",
    "        \"num_char_map\": {},\n",
    "        \"source_charToNum\": torch.zeros(len(train_input), 30, dtype=torch.int, device=device),\n",
    "        \"source_data\": train_input,\n",
    "        \"all_characters_2\": [],\n",
    "        \"char_num_map_2\": {},\n",
    "        \"num_char_map_2\": {},\n",
    "        \"val_charToNum\": torch.zeros(len(train_output), 23, dtype=torch.int, device=device),\n",
    "        \"target_data\": train_output,\n",
    "        \"source_len\": 0,\n",
    "        \"target_len\": 0\n",
    "    }\n",
    "    k = 0\n",
    "    for i in range(len(train_input)):\n",
    "        train_input[i] = \"{\" + train_input[i] + \"}\" * (29 - len(train_input[i]))\n",
    "        charToNum = []\n",
    "        for char in train_input[i]:\n",
    "            if char not in data[\"all_characters\"]:\n",
    "                data[\"all_characters\"].append(char)\n",
    "                index = data[\"all_characters\"].index(char)\n",
    "                data[\"char_num_map\"][char] = index\n",
    "                data[\"num_char_map\"][index] = char\n",
    "            else:\n",
    "                index = data[\"all_characters\"].index(char)\n",
    "            charToNum.append(index)\n",
    "        my_tensor = torch.tensor(charToNum, device=device)\n",
    "        data[\"source_charToNum\"][k] = my_tensor\n",
    "\n",
    "        charToNum1 = []\n",
    "        train_output[i] = \"{\" + train_output[i] + \"}\" * (22 - len(train_output[i]))\n",
    "        for char in train_output[i]:\n",
    "            if char not in data[\"all_characters_2\"]:\n",
    "                data[\"all_characters_2\"].append(char)\n",
    "                index = data[\"all_characters_2\"].index(char)\n",
    "                data[\"char_num_map_2\"][char] = index\n",
    "                data[\"num_char_map_2\"][index] = char\n",
    "            else:\n",
    "                index = data[\"all_characters_2\"].index(char)\n",
    "            charToNum1.append(index)\n",
    "        my_tensor1 = torch.tensor(charToNum1, device=device)\n",
    "        data[\"val_charToNum\"][k] = my_tensor1\n",
    "        k += 1\n",
    "\n",
    "    data[\"source_len\"] = len(data[\"all_characters\"])\n",
    "    data[\"target_len\"] = len(data[\"all_characters_2\"])\n",
    "    return data"
   ]
  },
  {
   "cell_type": "code",
   "execution_count": 7,
   "metadata": {
    "execution": {
     "iopub.execute_input": "2025-05-17T16:19:20.181013Z",
     "iopub.status.busy": "2025-05-17T16:19:20.180859Z",
     "iopub.status.idle": "2025-05-17T16:19:24.806850Z",
     "shell.execute_reply": "2025-05-17T16:19:24.806141Z",
     "shell.execute_reply.started": "2025-05-17T16:19:20.181000Z"
    },
    "trusted": true
   },
   "outputs": [],
   "source": [
    "data = pre_processing(copy.copy(train_input), copy.copy(train_output))"
   ]
  },
  {
   "cell_type": "code",
   "execution_count": 8,
   "metadata": {
    "execution": {
     "iopub.execute_input": "2025-05-17T16:19:24.807728Z",
     "iopub.status.busy": "2025-05-17T16:19:24.807533Z",
     "iopub.status.idle": "2025-05-17T16:19:24.815808Z",
     "shell.execute_reply": "2025-05-17T16:19:24.815123Z",
     "shell.execute_reply.started": "2025-05-17T16:19:24.807711Z"
    },
    "trusted": true
   },
   "outputs": [],
   "source": [
    "def pre_processing_validation(val_input, val_output):\n",
    "    data2 = {\n",
    "        \"all_characters\": [],\n",
    "        \"char_num_map\": {},\n",
    "        \"num_char_map\": {},\n",
    "        \"source_charToNum\": torch.zeros(len(val_input), 30, dtype=torch.int, device=device),\n",
    "        \"source_data\": val_input,\n",
    "        \"all_characters_2\": [],\n",
    "        \"char_num_map_2\": {},\n",
    "        \"num_char_map_2\": {},\n",
    "        \"val_charToNum\": torch.zeros(len(val_output), 23, dtype=torch.int, device=device),\n",
    "        \"target_data\": val_output,\n",
    "        \"source_len\": 0,\n",
    "        \"target_len\": 0\n",
    "    }\n",
    "    k = 0\n",
    "    m1 = data[\"char_num_map\"]\n",
    "    m2 = data[\"char_num_map_2\"]\n",
    "    for i in range(len(val_input)):\n",
    "        val_input[i] = \"{\" + val_input[i] + \"}\" * (29 - len(val_input[i]))\n",
    "        charToNum = []\n",
    "        for char in val_input[i]:\n",
    "            if char not in data2[\"all_characters\"]:\n",
    "                data2[\"all_characters\"].append(char)\n",
    "                index = m1[char]\n",
    "                data2[\"char_num_map\"][char] = index\n",
    "                data2[\"num_char_map\"][index] = char\n",
    "            else:\n",
    "                index = m1[char]\n",
    "            charToNum.append(index)\n",
    "        my_tensor = torch.tensor(charToNum, device=device)\n",
    "        data2[\"source_charToNum\"][k] = my_tensor\n",
    "\n",
    "        charToNum1 = []\n",
    "        val_output[i] = \"{\" + val_output[i] + \"}\" * (22 - len(val_output[i]))\n",
    "        for char in val_output[i]:\n",
    "            if char not in data2[\"all_characters_2\"]:\n",
    "                data2[\"all_characters_2\"].append(char)\n",
    "                index = m2[char]\n",
    "                data2[\"char_num_map_2\"][char] = index\n",
    "                data2[\"num_char_map_2\"][index] = char\n",
    "            else:\n",
    "                index = m2[char]\n",
    "            charToNum1.append(index)\n",
    "        my_tensor1 = torch.tensor(charToNum1, device=device)\n",
    "        data2[\"val_charToNum\"][k] = my_tensor1\n",
    "        k += 1\n",
    "\n",
    "    data2[\"source_len\"] = len(data2[\"all_characters\"])\n",
    "    data2[\"target_len\"] = len(data2[\"all_characters_2\"])\n",
    "    return data2"
   ]
  },
  {
   "cell_type": "code",
   "execution_count": 9,
   "metadata": {
    "execution": {
     "iopub.execute_input": "2025-05-17T16:19:24.816797Z",
     "iopub.status.busy": "2025-05-17T16:19:24.816548Z",
     "iopub.status.idle": "2025-05-17T16:19:25.246137Z",
     "shell.execute_reply": "2025-05-17T16:19:25.245635Z",
     "shell.execute_reply.started": "2025-05-17T16:19:24.816775Z"
    },
    "trusted": true
   },
   "outputs": [],
   "source": [
    "data2 = pre_processing_validation(copy.copy(val_input), copy.copy(val_output))"
   ]
  },
  {
   "cell_type": "code",
   "execution_count": 10,
   "metadata": {
    "execution": {
     "iopub.execute_input": "2025-05-17T16:19:25.246946Z",
     "iopub.status.busy": "2025-05-17T16:19:25.246782Z",
     "iopub.status.idle": "2025-05-17T16:19:25.256718Z",
     "shell.execute_reply": "2025-05-17T16:19:25.256055Z",
     "shell.execute_reply.started": "2025-05-17T16:19:25.246933Z"
    },
    "trusted": true
   },
   "outputs": [],
   "source": [
    "class MyDataset(Dataset):\n",
    "    def __init__(self, x, y):\n",
    "        self.source = x\n",
    "        self.target = y\n",
    "\n",
    "    def __len__(self):\n",
    "        return len(self.source)\n",
    "\n",
    "    def __getitem__(self, idx):\n",
    "        source_data = self.source[idx]\n",
    "        target_data = self.target[idx]\n",
    "        return source_data, target_data\n",
    "\n",
    "def validationAccuracy(encoder, decoder, batchsize, tf_ratio, cellType, bidirection):\n",
    "    dataLoader = dataLoaderFun(\"validation\", batchsize)\n",
    "    encoder.eval()\n",
    "    decoder.eval()\n",
    "    total_sequences = 0\n",
    "    total_correct_sequences = 0\n",
    "    total_char_matches = 0\n",
    "    total_characters = 0\n",
    "    total_loss = 0\n",
    "\n",
    "    lossFunction = nn.NLLLoss()\n",
    "\n",
    "    for source_batch, target_batch in dataLoader:\n",
    "        actual_batch_size = source_batch.shape[0]\n",
    "        total_sequences += actual_batch_size\n",
    "        total_characters += target_batch.numel()\n",
    "\n",
    "        encoder_initial_state = encoder.getInitialState(actual_batch_size)\n",
    "        if bidirection == \"Yes\":\n",
    "            reversed_batch = torch.flip(source_batch, dims=[1])\n",
    "            source_batch = (source_batch + reversed_batch) // 2\n",
    "        if cellType == 'LSTM':\n",
    "            encoder_initial_state = (encoder_initial_state, encoder.getInitialState(actual_batch_size))\n",
    "\n",
    "        encoder_states, _ = encoder(source_batch, encoder_initial_state)\n",
    "        decoder_current_state = encoder_states[-1, :, :, :]\n",
    "        encoder_final_layer_states = encoder_states[:, -1, :, :]\n",
    "        output_seq_len = target_batch.shape[1]\n",
    "\n",
    "        loss = 0\n",
    "        decoder_actual_output = []\n",
    "        randNumber = random.random()\n",
    "\n",
    "        for i in range(output_seq_len):\n",
    "            if i == 0:\n",
    "                decoder_current_input = torch.full((actual_batch_size, 1), 0, device=device)\n",
    "            else:\n",
    "                if randNumber < tf_ratio:\n",
    "                    decoder_current_input = target_batch[:, i].reshape(actual_batch_size, 1)\n",
    "                else:\n",
    "                    decoder_current_input = decoder_current_input.reshape(actual_batch_size, 1)\n",
    "            decoder_output, decoder_current_state, _ = decoder(decoder_current_input, decoder_current_state, encoder_final_layer_states)\n",
    "            topv, topi = decoder_output.topk(1)\n",
    "            decoder_current_input = topi.squeeze().detach()\n",
    "            decoder_actual_output.append(decoder_current_input)\n",
    "\n",
    "            decoder_output = decoder_output[:, -1, :]\n",
    "            curr_target_chars = target_batch[:, i].long()\n",
    "            loss += lossFunction(decoder_output, curr_target_chars)\n",
    "\n",
    "        total_loss += loss.item() / output_seq_len\n",
    "        decoder_actual_output = torch.cat(decoder_actual_output, dim=0).reshape(output_seq_len, actual_batch_size).transpose(0, 1)\n",
    "        total_correct_sequences += (decoder_actual_output == target_batch).all(dim=1).sum().item()\n",
    "        total_char_matches += (decoder_actual_output == target_batch).sum().item()\n",
    "\n",
    "    encoder.train()\n",
    "    decoder.train()\n",
    "\n",
    "    wandb.log({\n",
    "        'validation_loss': total_loss / len(dataLoader),\n",
    "        'validation_accuracy': total_correct_sequences / total_sequences,\n",
    "        'validation_char_accuracy': total_char_matches / total_characters\n",
    "    })"
   ]
  },
  {
   "cell_type": "code",
   "execution_count": 11,
   "metadata": {
    "execution": {
     "iopub.execute_input": "2025-05-17T16:19:25.257593Z",
     "iopub.status.busy": "2025-05-17T16:19:25.257402Z",
     "iopub.status.idle": "2025-05-17T16:19:25.273875Z",
     "shell.execute_reply": "2025-05-17T16:19:25.273178Z",
     "shell.execute_reply.started": "2025-05-17T16:19:25.257579Z"
    },
    "trusted": true
   },
   "outputs": [],
   "source": [
    "class Attention(nn.Module):\n",
    "    def __init__(self, hidden_size):\n",
    "        super(Attention, self).__init__()\n",
    "        self.Wa = nn.Linear(hidden_size, hidden_size)\n",
    "        self.Ua = nn.Linear(hidden_size, hidden_size)\n",
    "        self.Va = nn.Linear(hidden_size, 1)\n",
    "\n",
    "    def forward(self, query, keys):\n",
    "        scores = self.Va(torch.tanh(self.Wa(query) + self.Ua(keys)))\n",
    "        scores = scores.squeeze().unsqueeze(1)\n",
    "        weights = F.softmax(scores, dim=0)\n",
    "        weights = weights.permute(2, 1, 0)\n",
    "        keys = keys.permute(1, 0, 2)\n",
    "        context = torch.bmm(weights, keys)\n",
    "        return context, weights"
   ]
  },
  {
   "cell_type": "code",
   "execution_count": 12,
   "metadata": {
    "execution": {
     "iopub.execute_input": "2025-05-17T16:19:25.274668Z",
     "iopub.status.busy": "2025-05-17T16:19:25.274501Z",
     "iopub.status.idle": "2025-05-17T16:19:25.283395Z",
     "shell.execute_reply": "2025-05-17T16:19:25.282863Z",
     "shell.execute_reply.started": "2025-05-17T16:19:25.274654Z"
    },
    "trusted": true
   },
   "outputs": [],
   "source": [
    "class Encoder(nn.Module):\n",
    "    def __init__(self, inputDim, embSize, encoderLayers, hiddenLayerNuerons, cellType, batch_size):\n",
    "        super(Encoder, self).__init__()\n",
    "        self.embedding = nn.Embedding(inputDim, embSize)\n",
    "        self.encoderLayers = encoderLayers\n",
    "        self.hiddenLayerNuerons = hiddenLayerNuerons\n",
    "        self.cellType = cellType\n",
    "        if cellType == 'GRU':\n",
    "            self.rnn = nn.GRU(embSize, hiddenLayerNuerons, num_layers=encoderLayers, batch_first=True)\n",
    "        elif cellType == 'RNN':\n",
    "            self.rnn = nn.RNN(embSize, hiddenLayerNuerons, num_layers=encoderLayers, batch_first=True)\n",
    "        else:\n",
    "            self.rnn = nn.LSTM(embSize, hiddenLayerNuerons, num_layers=encoderLayers, batch_first=True)\n",
    "\n",
    "    def forward(self, sourceBatch, encoderCurrState):\n",
    "        sequenceLength = sourceBatch.shape[1]\n",
    "        batch_size = sourceBatch.shape[0]\n",
    "        encoderStates = torch.zeros(sequenceLength, self.encoderLayers, batch_size, self.hiddenLayerNuerons, device=device)\n",
    "        for i in range(sequenceLength):\n",
    "            currInput = sourceBatch[:, i].reshape(batch_size, 1)\n",
    "            _, encoderCurrState = self.statesCalculation(currInput, encoderCurrState)\n",
    "            if self.cellType == 'LSTM':\n",
    "                encoderStates[i] = encoderCurrState[1]\n",
    "            else:\n",
    "                encoderStates[i] = encoderCurrState\n",
    "        return encoderStates, encoderCurrState\n",
    "\n",
    "    def statesCalculation(self, currentInput, prevState):\n",
    "        embdInput = self.embedding(currentInput)\n",
    "        output, prev_state = self.rnn(embdInput, prevState)\n",
    "        return output, prev_state\n",
    "\n",
    "    def getInitialState(self, batch_size):\n",
    "        return torch.zeros(self.encoderLayers, batch_size, self.hiddenLayerNuerons, device=device)"
   ]
  },
  {
   "cell_type": "code",
   "execution_count": 13,
   "metadata": {
    "execution": {
     "iopub.execute_input": "2025-05-17T16:19:25.284395Z",
     "iopub.status.busy": "2025-05-17T16:19:25.284134Z",
     "iopub.status.idle": "2025-05-17T16:19:25.303454Z",
     "shell.execute_reply": "2025-05-17T16:19:25.302832Z",
     "shell.execute_reply.started": "2025-05-17T16:19:25.284363Z"
    },
    "trusted": true
   },
   "outputs": [],
   "source": [
    "class Decoder(nn.Module):\n",
    "    def __init__(self, outputDim, embSize, hiddenLayerNuerons, decoderLayers, cellType, dropout_p):\n",
    "        super(Decoder, self).__init__()\n",
    "        self.embedding = nn.Embedding(outputDim, embSize)\n",
    "        self.cellType = cellType\n",
    "        if cellType == 'GRU':\n",
    "            self.rnn = nn.GRU(embSize + hiddenLayerNuerons, hiddenLayerNuerons, num_layers=decoderLayers, batch_first=True)\n",
    "        elif cellType == 'RNN':\n",
    "            self.rnn = nn.RNN(embSize + hiddenLayerNuerons, hiddenLayerNuerons, num_layers=decoderLayers, batch_first=True)\n",
    "        else:\n",
    "            self.rnn = nn.LSTM(embSize + hiddenLayerNuerons, hiddenLayerNuerons, num_layers=decoderLayers, batch_first=True)\n",
    "        self.fc = nn.Linear(hiddenLayerNuerons, outputDim)\n",
    "        self.softmax = nn.LogSoftmax(dim=2)\n",
    "        self.dropout = nn.Dropout(dropout_p)\n",
    "        self.attention = Attention(hiddenLayerNuerons).to(device)\n",
    "\n",
    "    def forward(self, current_input, prev_state, encoder_final_layers):\n",
    "        if self.cellType == 'LSTM':\n",
    "            context, attn_weights = self.attention(prev_state[1][-1, :, :], encoder_final_layers)\n",
    "        else:\n",
    "            context, attn_weights = self.attention(prev_state[-1, :, :], encoder_final_layers)\n",
    "        embd_input = self.embedding(current_input)\n",
    "        curr_embd = F.relu(embd_input)\n",
    "        input_gru = torch.cat((curr_embd, context), dim=2)\n",
    "        output, prev_state = self.rnn(input_gru, prev_state)\n",
    "        output = self.dropout(output)\n",
    "        output = self.softmax(self.fc(output))\n",
    "        return output, prev_state, attn_weights\n"
   ]
  },
  {
   "cell_type": "code",
   "execution_count": 14,
   "metadata": {
    "execution": {
     "iopub.execute_input": "2025-05-17T16:19:25.305741Z",
     "iopub.status.busy": "2025-05-17T16:19:25.305560Z",
     "iopub.status.idle": "2025-05-17T16:19:25.324122Z",
     "shell.execute_reply": "2025-05-17T16:19:25.323405Z",
     "shell.execute_reply.started": "2025-05-17T16:19:25.305727Z"
    },
    "trusted": true
   },
   "outputs": [],
   "source": [
    "def dataLoaderFun(dataName, batch_size):\n",
    "    if dataName == 'train':\n",
    "        dataset = MyDataset(data[\"source_charToNum\"], data['val_charToNum'])\n",
    "        return DataLoader(dataset, batch_size=batch_size, shuffle=True)\n",
    "    else:\n",
    "        dataset = MyDataset(data2[\"source_charToNum\"], data2['val_charToNum'])\n",
    "        return DataLoader(dataset, batch_size=batch_size, shuffle=True)\n",
    "\n",
    "def train(embSize, encoderLayers, decoderLayers, hiddenLayerNuerons, cellType, bidirection, dropout, epochs, batchsize, learningRate, optimizer, tf_ratio):\n",
    "    dataLoader = dataLoaderFun(\"train\", batchsize)\n",
    "    encoder = Encoder(data[\"source_len\"], embSize, encoderLayers, hiddenLayerNuerons, cellType, batchsize).to(device)\n",
    "    decoder = Decoder(data[\"target_len\"], embSize, hiddenLayerNuerons, encoderLayers, cellType, dropout).to(device)\n",
    "    if optimizer == 'Adam':\n",
    "        encoderOptimizer = optim.Adam(encoder.parameters(), lr=learningRate)\n",
    "        decoderOptimizer = optim.Adam(decoder.parameters(), lr=learningRate)\n",
    "    else:\n",
    "        encoderOptimizer = optim.NAdam(encoder.parameters(), lr=learningRate)\n",
    "        decoderOptimizer = optim.NAdam(decoder.parameters(), lr=learningRate)\n",
    "    lossFunction = nn.NLLLoss()\n",
    "    for epoch in range(epochs):\n",
    "        train_accuracy = 0\n",
    "        train_loss = 0\n",
    "        for batch_num, (source_batch, target_batch) in enumerate(dataLoader):\n",
    "            actual_batch_size = source_batch.shape[0]\n",
    "            encoder_initial_state = encoder.getInitialState(actual_batch_size)\n",
    "            if bidirection == \"Yes\":\n",
    "                reversed_batch = torch.flip(source_batch, dims=[1])\n",
    "                source_batch = (source_batch + reversed_batch) // 2\n",
    "            if cellType == 'LSTM':\n",
    "                encoder_initial_state = (encoder_initial_state, encoder.getInitialState(actual_batch_size))\n",
    "            encoder_states, dummy = encoder(source_batch, encoder_initial_state)\n",
    "            decoder_current_state = dummy\n",
    "            encoder_final_layer_states = encoder_states[:, -1, :, :]\n",
    "            loss = 0\n",
    "            output_seq_len = target_batch.shape[1]\n",
    "            decoder_actual_output = []\n",
    "            randNumber = random.random()\n",
    "            for i in range(output_seq_len):\n",
    "                if i == 0:\n",
    "                    decoder_current_input = torch.full((actual_batch_size, 1), 0, device=device)\n",
    "                else:\n",
    "                    if randNumber < tf_ratio:\n",
    "                        decoder_current_input = target_batch[:, i].reshape(actual_batch_size, 1)\n",
    "                    else:\n",
    "                        decoder_current_input = decoder_current_input.reshape(actual_batch_size, 1)\n",
    "                decoder_output, decoder_current_state, _ = decoder(decoder_current_input, decoder_current_state, encoder_final_layer_states)\n",
    "                topv, topi = decoder_output.topk(1)\n",
    "                decoder_current_input = topi.squeeze().detach()\n",
    "                decoder_actual_output.append(decoder_current_input)\n",
    "                decoder_output = decoder_output[:, -1, :]\n",
    "                curr_target_chars = target_batch[:, i].type(dtype=torch.long)\n",
    "                loss += (lossFunction(decoder_output, curr_target_chars))\n",
    "            decoder_actual_output = torch.cat(decoder_actual_output, dim=0).reshape(output_seq_len, actual_batch_size).transpose(0, 1)\n",
    "            train_accuracy += (decoder_actual_output == target_batch).all(dim=1).sum().item()\n",
    "            train_loss += (loss.item() / output_seq_len)\n",
    "            encoderOptimizer.zero_grad()\n",
    "            decoderOptimizer.zero_grad()\n",
    "            loss.backward()\n",
    "            encoderOptimizer.step()\n",
    "            decoderOptimizer.step()\n",
    "\n",
    "        #Logging train metrics here\n",
    "        wandb.log({'train_accuracy': train_accuracy / len(data[\"source_charToNum\"])})\n",
    "        wandb.log({'train_loss': train_loss / len(dataLoader)})\n",
    "\n",
    "        validationAccuracy(encoder, decoder, batchsize, tf_ratio, cellType, bidirection)\n",
    "\n",
    "\n",
    "def numToCharConverter(inputArray, outputArray, data):\n",
    "    mp = data['num_char_map_2']\n",
    "    for row1, row2 in zip(inputArray, outputArray):\n",
    "        t1 = ''.join([mp[e1.item()] for e1 in row1])\n",
    "        t2 = ''.join([mp[e2.item()] for e2 in row2])"
   ]
  },
  {
   "cell_type": "code",
   "execution_count": null,
   "metadata": {
    "execution": {
     "execution_failed": "2025-05-18T04:18:57.488Z",
     "iopub.execute_input": "2025-05-17T16:19:25.325052Z",
     "iopub.status.busy": "2025-05-17T16:19:25.324842Z"
    },
    "trusted": true
   },
   "outputs": [
    {
     "name": "stderr",
     "output_type": "stream",
     "text": [
      "\u001b[34m\u001b[1mwandb\u001b[0m: Sweep Agent: Waiting for job.\n",
      "\u001b[34m\u001b[1mwandb\u001b[0m: Job received.\n",
      "\u001b[34m\u001b[1mwandb\u001b[0m: Agent Starting Run: 15dmpn09 with config:\n",
      "\u001b[34m\u001b[1mwandb\u001b[0m: \tbatchsize: 32\n",
      "\u001b[34m\u001b[1mwandb\u001b[0m: \tbidirection: no\n",
      "\u001b[34m\u001b[1mwandb\u001b[0m: \tcellType: RNN\n",
      "\u001b[34m\u001b[1mwandb\u001b[0m: \tdecoderLayers: 15\n",
      "\u001b[34m\u001b[1mwandb\u001b[0m: \tdropout: 0.1\n",
      "\u001b[34m\u001b[1mwandb\u001b[0m: \tembSize: 128\n",
      "\u001b[34m\u001b[1mwandb\u001b[0m: \tencoderLayers: 1\n",
      "\u001b[34m\u001b[1mwandb\u001b[0m: \tepochs: 25\n",
      "\u001b[34m\u001b[1mwandb\u001b[0m: \thiddenLayerNuerons: 512\n",
      "\u001b[34m\u001b[1mwandb\u001b[0m: \tlearningRate: 0.0001\n",
      "\u001b[34m\u001b[1mwandb\u001b[0m: \toptimizer: Nadam\n",
      "\u001b[34m\u001b[1mwandb\u001b[0m: \ttf_ratio: 0.7\n"
     ]
    },
    {
     "data": {
      "text/html": [
       "Ignoring project 'CS23S025-Assignment-3-DL' when running a sweep."
      ],
      "text/plain": [
       "<IPython.core.display.HTML object>"
      ]
     },
     "metadata": {},
     "output_type": "display_data"
    },
    {
     "data": {
      "text/html": [
       "Tracking run with wandb version 0.19.9"
      ],
      "text/plain": [
       "<IPython.core.display.HTML object>"
      ]
     },
     "metadata": {},
     "output_type": "display_data"
    },
    {
     "data": {
      "text/html": [
       "Run data is saved locally in <code>/kaggle/working/wandb/run-20250517_161943-15dmpn09</code>"
      ],
      "text/plain": [
       "<IPython.core.display.HTML object>"
      ]
     },
     "metadata": {},
     "output_type": "display_data"
    },
    {
     "data": {
      "text/html": [
       "Syncing run <strong><a href='https://wandb.ai/cs23s025-indian-institute-of-technology-madras/CS23S025-Assignment-3-DL/runs/15dmpn09' target=\"_blank\">divine-sweep-61</a></strong> to <a href='https://wandb.ai/cs23s025-indian-institute-of-technology-madras/CS23S025-Assignment-3-DL' target=\"_blank\">Weights & Biases</a> (<a href='https://wandb.me/developer-guide' target=\"_blank\">docs</a>)<br>Sweep page: <a href='https://wandb.ai/cs23s025-indian-institute-of-technology-madras/CS23S025-Assignment-3-DL/sweeps/92mo9e7w' target=\"_blank\">https://wandb.ai/cs23s025-indian-institute-of-technology-madras/CS23S025-Assignment-3-DL/sweeps/92mo9e7w</a>"
      ],
      "text/plain": [
       "<IPython.core.display.HTML object>"
      ]
     },
     "metadata": {},
     "output_type": "display_data"
    },
    {
     "data": {
      "text/html": [
       " View project at <a href='https://wandb.ai/cs23s025-indian-institute-of-technology-madras/CS23S025-Assignment-3-DL' target=\"_blank\">https://wandb.ai/cs23s025-indian-institute-of-technology-madras/CS23S025-Assignment-3-DL</a>"
      ],
      "text/plain": [
       "<IPython.core.display.HTML object>"
      ]
     },
     "metadata": {},
     "output_type": "display_data"
    },
    {
     "data": {
      "text/html": [
       " View sweep at <a href='https://wandb.ai/cs23s025-indian-institute-of-technology-madras/CS23S025-Assignment-3-DL/sweeps/92mo9e7w' target=\"_blank\">https://wandb.ai/cs23s025-indian-institute-of-technology-madras/CS23S025-Assignment-3-DL/sweeps/92mo9e7w</a>"
      ],
      "text/plain": [
       "<IPython.core.display.HTML object>"
      ]
     },
     "metadata": {},
     "output_type": "display_data"
    },
    {
     "data": {
      "text/html": [
       " View run at <a href='https://wandb.ai/cs23s025-indian-institute-of-technology-madras/CS23S025-Assignment-3-DL/runs/15dmpn09' target=\"_blank\">https://wandb.ai/cs23s025-indian-institute-of-technology-madras/CS23S025-Assignment-3-DL/runs/15dmpn09</a>"
      ],
      "text/plain": [
       "<IPython.core.display.HTML object>"
      ]
     },
     "metadata": {},
     "output_type": "display_data"
    },
    {
     "data": {
      "text/html": [],
      "text/plain": [
       "<IPython.core.display.HTML object>"
      ]
     },
     "metadata": {},
     "output_type": "display_data"
    },
    {
     "data": {
      "text/html": [
       "<br>    <style><br>        .wandb-row {<br>            display: flex;<br>            flex-direction: row;<br>            flex-wrap: wrap;<br>            justify-content: flex-start;<br>            width: 100%;<br>        }<br>        .wandb-col {<br>            display: flex;<br>            flex-direction: column;<br>            flex-basis: 100%;<br>            flex: 1;<br>            padding: 10px;<br>        }<br>    </style><br><div class=\"wandb-row\"><div class=\"wandb-col\"><h3>Run history:</h3><br/><table class=\"wandb\"><tr><td>train_accuracy</td><td>▁▅▆▆▇▇▇▇▇▇▇█▇████████████</td></tr><tr><td>train_loss</td><td>█▃▂▂▂▂▂▂▂▂▁▁▁▁▁▁▁▁▁▁▁▁▁▁▁</td></tr><tr><td>validation_accuracy</td><td>▃▁▄▃▃▅▄▇█▆▆▇█▇▆▆█▆▆▆█▅▆██</td></tr><tr><td>validation_char_accuracy</td><td>▁▂▄▄▃▅▅▆█▇▆▇█▇▆▆█▇▆▆█▆▇██</td></tr><tr><td>validation_loss</td><td>█▆▄▄▄▃▃▂▁▂▂▂▁▂▂▂▁▂▂▂▁▂▂▁▁</td></tr></table><br/></div><div class=\"wandb-col\"><h3>Run summary:</h3><br/><table class=\"wandb\"><tr><td>train_accuracy</td><td>0.80354</td></tr><tr><td>train_loss</td><td>0.0616</td></tr><tr><td>validation_accuracy</td><td>0.80381</td></tr><tr><td>validation_char_accuracy</td><td>0.97695</td></tr><tr><td>validation_loss</td><td>0.07583</td></tr></table><br/></div></div>"
      ],
      "text/plain": [
       "<IPython.core.display.HTML object>"
      ]
     },
     "metadata": {},
     "output_type": "display_data"
    },
    {
     "data": {
      "text/html": [
       " View run <strong style=\"color:#cdcd00\">embedding128_cellTypeRNN_batchSize32</strong> at: <a href='https://wandb.ai/cs23s025-indian-institute-of-technology-madras/CS23S025-Assignment-3-DL/runs/15dmpn09' target=\"_blank\">https://wandb.ai/cs23s025-indian-institute-of-technology-madras/CS23S025-Assignment-3-DL/runs/15dmpn09</a><br> View project at: <a href='https://wandb.ai/cs23s025-indian-institute-of-technology-madras/CS23S025-Assignment-3-DL' target=\"_blank\">https://wandb.ai/cs23s025-indian-institute-of-technology-madras/CS23S025-Assignment-3-DL</a><br>Synced 5 W&B file(s), 0 media file(s), 0 artifact file(s) and 0 other file(s)"
      ],
      "text/plain": [
       "<IPython.core.display.HTML object>"
      ]
     },
     "metadata": {},
     "output_type": "display_data"
    },
    {
     "data": {
      "text/html": [
       "Find logs at: <code>./wandb/run-20250517_161943-15dmpn09/logs</code>"
      ],
      "text/plain": [
       "<IPython.core.display.HTML object>"
      ]
     },
     "metadata": {},
     "output_type": "display_data"
    },
    {
     "name": "stderr",
     "output_type": "stream",
     "text": [
      "\u001b[34m\u001b[1mwandb\u001b[0m: Sweep Agent: Waiting for job.\n",
      "\u001b[34m\u001b[1mwandb\u001b[0m: Job received.\n",
      "\u001b[34m\u001b[1mwandb\u001b[0m: Agent Starting Run: g7bhd7ro with config:\n",
      "\u001b[34m\u001b[1mwandb\u001b[0m: \tbatchsize: 32\n",
      "\u001b[34m\u001b[1mwandb\u001b[0m: \tbidirection: no\n",
      "\u001b[34m\u001b[1mwandb\u001b[0m: \tcellType: GRU\n",
      "\u001b[34m\u001b[1mwandb\u001b[0m: \tdecoderLayers: 12\n",
      "\u001b[34m\u001b[1mwandb\u001b[0m: \tdropout: 0.1\n",
      "\u001b[34m\u001b[1mwandb\u001b[0m: \tembSize: 64\n",
      "\u001b[34m\u001b[1mwandb\u001b[0m: \tencoderLayers: 1\n",
      "\u001b[34m\u001b[1mwandb\u001b[0m: \tepochs: 30\n",
      "\u001b[34m\u001b[1mwandb\u001b[0m: \thiddenLayerNuerons: 256\n",
      "\u001b[34m\u001b[1mwandb\u001b[0m: \tlearningRate: 0.0001\n",
      "\u001b[34m\u001b[1mwandb\u001b[0m: \toptimizer: Nadam\n",
      "\u001b[34m\u001b[1mwandb\u001b[0m: \ttf_ratio: 0.7\n"
     ]
    },
    {
     "data": {
      "text/html": [
       "Ignoring project 'CS23S025-Assignment-3-DL' when running a sweep."
      ],
      "text/plain": [
       "<IPython.core.display.HTML object>"
      ]
     },
     "metadata": {},
     "output_type": "display_data"
    },
    {
     "data": {
      "text/html": [
       "Tracking run with wandb version 0.19.9"
      ],
      "text/plain": [
       "<IPython.core.display.HTML object>"
      ]
     },
     "metadata": {},
     "output_type": "display_data"
    },
    {
     "data": {
      "text/html": [
       "Run data is saved locally in <code>/kaggle/working/wandb/run-20250517_170640-g7bhd7ro</code>"
      ],
      "text/plain": [
       "<IPython.core.display.HTML object>"
      ]
     },
     "metadata": {},
     "output_type": "display_data"
    },
    {
     "data": {
      "text/html": [
       "Syncing run <strong><a href='https://wandb.ai/cs23s025-indian-institute-of-technology-madras/CS23S025-Assignment-3-DL/runs/g7bhd7ro' target=\"_blank\">fiery-sweep-66</a></strong> to <a href='https://wandb.ai/cs23s025-indian-institute-of-technology-madras/CS23S025-Assignment-3-DL' target=\"_blank\">Weights & Biases</a> (<a href='https://wandb.me/developer-guide' target=\"_blank\">docs</a>)<br>Sweep page: <a href='https://wandb.ai/cs23s025-indian-institute-of-technology-madras/CS23S025-Assignment-3-DL/sweeps/92mo9e7w' target=\"_blank\">https://wandb.ai/cs23s025-indian-institute-of-technology-madras/CS23S025-Assignment-3-DL/sweeps/92mo9e7w</a>"
      ],
      "text/plain": [
       "<IPython.core.display.HTML object>"
      ]
     },
     "metadata": {},
     "output_type": "display_data"
    },
    {
     "data": {
      "text/html": [
       " View project at <a href='https://wandb.ai/cs23s025-indian-institute-of-technology-madras/CS23S025-Assignment-3-DL' target=\"_blank\">https://wandb.ai/cs23s025-indian-institute-of-technology-madras/CS23S025-Assignment-3-DL</a>"
      ],
      "text/plain": [
       "<IPython.core.display.HTML object>"
      ]
     },
     "metadata": {},
     "output_type": "display_data"
    },
    {
     "data": {
      "text/html": [
       " View sweep at <a href='https://wandb.ai/cs23s025-indian-institute-of-technology-madras/CS23S025-Assignment-3-DL/sweeps/92mo9e7w' target=\"_blank\">https://wandb.ai/cs23s025-indian-institute-of-technology-madras/CS23S025-Assignment-3-DL/sweeps/92mo9e7w</a>"
      ],
      "text/plain": [
       "<IPython.core.display.HTML object>"
      ]
     },
     "metadata": {},
     "output_type": "display_data"
    },
    {
     "data": {
      "text/html": [
       " View run at <a href='https://wandb.ai/cs23s025-indian-institute-of-technology-madras/CS23S025-Assignment-3-DL/runs/g7bhd7ro' target=\"_blank\">https://wandb.ai/cs23s025-indian-institute-of-technology-madras/CS23S025-Assignment-3-DL/runs/g7bhd7ro</a>"
      ],
      "text/plain": [
       "<IPython.core.display.HTML object>"
      ]
     },
     "metadata": {},
     "output_type": "display_data"
    },
    {
     "data": {
      "text/html": [],
      "text/plain": [
       "<IPython.core.display.HTML object>"
      ]
     },
     "metadata": {},
     "output_type": "display_data"
    },
    {
     "data": {
      "text/html": [
       "<br>    <style><br>        .wandb-row {<br>            display: flex;<br>            flex-direction: row;<br>            flex-wrap: wrap;<br>            justify-content: flex-start;<br>            width: 100%;<br>        }<br>        .wandb-col {<br>            display: flex;<br>            flex-direction: column;<br>            flex-basis: 100%;<br>            flex: 1;<br>            padding: 10px;<br>        }<br>    </style><br><div class=\"wandb-row\"><div class=\"wandb-col\"><h3>Run history:</h3><br/><table class=\"wandb\"><tr><td>train_accuracy</td><td>▁▆▇▇▇▇▇▇▇▇▇▇▇█████████████████</td></tr><tr><td>train_loss</td><td>█▄▃▃▃▂▂▂▂▁▁▁▁▁▁▁▁▁▁▁▁▁▁▁▁▁▁▁▁▁</td></tr><tr><td>validation_accuracy</td><td>▁▃▄▆▅▄▃▆▄▄▆▅▅▅▅▇█▆▇▇▆▇▆█▇▆▇█▆▆</td></tr><tr><td>validation_char_accuracy</td><td>▃▁▂▄▄▃▄▆▆▅▇▆▆▆▆██▇▇▇▇▇▇█▇▇▇█▇▇</td></tr><tr><td>validation_loss</td><td>██▇▅▄▅▄▂▃▃▂▂▂▂▂▁▁▂▁▁▂▁▂▁▁▂▁▁▂▂</td></tr></table><br/></div><div class=\"wandb-col\"><h3>Run summary:</h3><br/><table class=\"wandb\"><tr><td>train_accuracy</td><td>0.78779</td></tr><tr><td>train_loss</td><td>0.07281</td></tr><tr><td>validation_accuracy</td><td>0.73566</td></tr><tr><td>validation_char_accuracy</td><td>0.96815</td></tr><tr><td>validation_loss</td><td>0.09841</td></tr></table><br/></div></div>"
      ],
      "text/plain": [
       "<IPython.core.display.HTML object>"
      ]
     },
     "metadata": {},
     "output_type": "display_data"
    },
    {
     "data": {
      "text/html": [
       " View run <strong style=\"color:#cdcd00\">embedding64_cellTypeGRU_batchSize32</strong> at: <a href='https://wandb.ai/cs23s025-indian-institute-of-technology-madras/CS23S025-Assignment-3-DL/runs/g7bhd7ro' target=\"_blank\">https://wandb.ai/cs23s025-indian-institute-of-technology-madras/CS23S025-Assignment-3-DL/runs/g7bhd7ro</a><br> View project at: <a href='https://wandb.ai/cs23s025-indian-institute-of-technology-madras/CS23S025-Assignment-3-DL' target=\"_blank\">https://wandb.ai/cs23s025-indian-institute-of-technology-madras/CS23S025-Assignment-3-DL</a><br>Synced 5 W&B file(s), 0 media file(s), 0 artifact file(s) and 0 other file(s)"
      ],
      "text/plain": [
       "<IPython.core.display.HTML object>"
      ]
     },
     "metadata": {},
     "output_type": "display_data"
    },
    {
     "data": {
      "text/html": [
       "Find logs at: <code>./wandb/run-20250517_170640-g7bhd7ro/logs</code>"
      ],
      "text/plain": [
       "<IPython.core.display.HTML object>"
      ]
     },
     "metadata": {},
     "output_type": "display_data"
    },
    {
     "name": "stderr",
     "output_type": "stream",
     "text": [
      "\u001b[34m\u001b[1mwandb\u001b[0m: Agent Starting Run: gas3osp7 with config:\n",
      "\u001b[34m\u001b[1mwandb\u001b[0m: \tbatchsize: 32\n",
      "\u001b[34m\u001b[1mwandb\u001b[0m: \tbidirection: no\n",
      "\u001b[34m\u001b[1mwandb\u001b[0m: \tcellType: GRU\n",
      "\u001b[34m\u001b[1mwandb\u001b[0m: \tdecoderLayers: 15\n",
      "\u001b[34m\u001b[1mwandb\u001b[0m: \tdropout: 0\n",
      "\u001b[34m\u001b[1mwandb\u001b[0m: \tembSize: 256\n",
      "\u001b[34m\u001b[1mwandb\u001b[0m: \tencoderLayers: 1\n",
      "\u001b[34m\u001b[1mwandb\u001b[0m: \tepochs: 25\n",
      "\u001b[34m\u001b[1mwandb\u001b[0m: \thiddenLayerNuerons: 512\n",
      "\u001b[34m\u001b[1mwandb\u001b[0m: \tlearningRate: 0.0001\n",
      "\u001b[34m\u001b[1mwandb\u001b[0m: \toptimizer: Adam\n",
      "\u001b[34m\u001b[1mwandb\u001b[0m: \ttf_ratio: 0.7\n"
     ]
    },
    {
     "data": {
      "text/html": [
       "Ignoring project 'CS23S025-Assignment-3-DL' when running a sweep."
      ],
      "text/plain": [
       "<IPython.core.display.HTML object>"
      ]
     },
     "metadata": {},
     "output_type": "display_data"
    },
    {
     "data": {
      "text/html": [
       "Tracking run with wandb version 0.19.9"
      ],
      "text/plain": [
       "<IPython.core.display.HTML object>"
      ]
     },
     "metadata": {},
     "output_type": "display_data"
    },
    {
     "data": {
      "text/html": [
       "Run data is saved locally in <code>/kaggle/working/wandb/run-20250517_180634-gas3osp7</code>"
      ],
      "text/plain": [
       "<IPython.core.display.HTML object>"
      ]
     },
     "metadata": {},
     "output_type": "display_data"
    },
    {
     "data": {
      "text/html": [
       "Syncing run <strong><a href='https://wandb.ai/cs23s025-indian-institute-of-technology-madras/CS23S025-Assignment-3-DL/runs/gas3osp7' target=\"_blank\">lucky-sweep-69</a></strong> to <a href='https://wandb.ai/cs23s025-indian-institute-of-technology-madras/CS23S025-Assignment-3-DL' target=\"_blank\">Weights & Biases</a> (<a href='https://wandb.me/developer-guide' target=\"_blank\">docs</a>)<br>Sweep page: <a href='https://wandb.ai/cs23s025-indian-institute-of-technology-madras/CS23S025-Assignment-3-DL/sweeps/92mo9e7w' target=\"_blank\">https://wandb.ai/cs23s025-indian-institute-of-technology-madras/CS23S025-Assignment-3-DL/sweeps/92mo9e7w</a>"
      ],
      "text/plain": [
       "<IPython.core.display.HTML object>"
      ]
     },
     "metadata": {},
     "output_type": "display_data"
    },
    {
     "data": {
      "text/html": [
       " View project at <a href='https://wandb.ai/cs23s025-indian-institute-of-technology-madras/CS23S025-Assignment-3-DL' target=\"_blank\">https://wandb.ai/cs23s025-indian-institute-of-technology-madras/CS23S025-Assignment-3-DL</a>"
      ],
      "text/plain": [
       "<IPython.core.display.HTML object>"
      ]
     },
     "metadata": {},
     "output_type": "display_data"
    },
    {
     "data": {
      "text/html": [
       " View sweep at <a href='https://wandb.ai/cs23s025-indian-institute-of-technology-madras/CS23S025-Assignment-3-DL/sweeps/92mo9e7w' target=\"_blank\">https://wandb.ai/cs23s025-indian-institute-of-technology-madras/CS23S025-Assignment-3-DL/sweeps/92mo9e7w</a>"
      ],
      "text/plain": [
       "<IPython.core.display.HTML object>"
      ]
     },
     "metadata": {},
     "output_type": "display_data"
    },
    {
     "data": {
      "text/html": [
       " View run at <a href='https://wandb.ai/cs23s025-indian-institute-of-technology-madras/CS23S025-Assignment-3-DL/runs/gas3osp7' target=\"_blank\">https://wandb.ai/cs23s025-indian-institute-of-technology-madras/CS23S025-Assignment-3-DL/runs/gas3osp7</a>"
      ],
      "text/plain": [
       "<IPython.core.display.HTML object>"
      ]
     },
     "metadata": {},
     "output_type": "display_data"
    },
    {
     "data": {
      "text/html": [],
      "text/plain": [
       "<IPython.core.display.HTML object>"
      ]
     },
     "metadata": {},
     "output_type": "display_data"
    },
    {
     "data": {
      "text/html": [
       "<br>    <style><br>        .wandb-row {<br>            display: flex;<br>            flex-direction: row;<br>            flex-wrap: wrap;<br>            justify-content: flex-start;<br>            width: 100%;<br>        }<br>        .wandb-col {<br>            display: flex;<br>            flex-direction: column;<br>            flex-basis: 100%;<br>            flex: 1;<br>            padding: 10px;<br>        }<br>    </style><br><div class=\"wandb-row\"><div class=\"wandb-col\"><h3>Run history:</h3><br/><table class=\"wandb\"><tr><td>train_accuracy</td><td>▁▅▆▆▆▆▇▇▇▇▇▇▇▇▇▇▇▇███████</td></tr><tr><td>train_loss</td><td>█▃▂▂▂▂▂▂▂▁▂▁▁▁▁▁▁▁▁▁▁▁▁▁▁</td></tr><tr><td>validation_accuracy</td><td>▃▆▁▄▆▃▆▆█▂▆▇▇▇▆▇█▇▇▆▇▄█▆▇</td></tr><tr><td>validation_char_accuracy</td><td>▁▆▂▅▆▄▆▇▇▃▆▇▇▇▇▇█▇▇▇▇▅█▇▇</td></tr><tr><td>validation_loss</td><td>█▃▅▃▂▃▂▂▁▄▂▁▁▁▂▂▁▁▂▂▁▃▁▂▂</td></tr></table><br/></div><div class=\"wandb-col\"><h3>Run summary:</h3><br/><table class=\"wandb\"><tr><td>train_accuracy</td><td>0.86562</td></tr><tr><td>train_loss</td><td>0.04</td></tr><tr><td>validation_accuracy</td><td>0.80633</td></tr><tr><td>validation_char_accuracy</td><td>0.97673</td></tr><tr><td>validation_loss</td><td>0.07866</td></tr></table><br/></div></div>"
      ],
      "text/plain": [
       "<IPython.core.display.HTML object>"
      ]
     },
     "metadata": {},
     "output_type": "display_data"
    },
    {
     "data": {
      "text/html": [
       " View run <strong style=\"color:#cdcd00\">embedding256_cellTypeGRU_batchSize32</strong> at: <a href='https://wandb.ai/cs23s025-indian-institute-of-technology-madras/CS23S025-Assignment-3-DL/runs/gas3osp7' target=\"_blank\">https://wandb.ai/cs23s025-indian-institute-of-technology-madras/CS23S025-Assignment-3-DL/runs/gas3osp7</a><br> View project at: <a href='https://wandb.ai/cs23s025-indian-institute-of-technology-madras/CS23S025-Assignment-3-DL' target=\"_blank\">https://wandb.ai/cs23s025-indian-institute-of-technology-madras/CS23S025-Assignment-3-DL</a><br>Synced 5 W&B file(s), 0 media file(s), 0 artifact file(s) and 0 other file(s)"
      ],
      "text/plain": [
       "<IPython.core.display.HTML object>"
      ]
     },
     "metadata": {},
     "output_type": "display_data"
    },
    {
     "data": {
      "text/html": [
       "Find logs at: <code>./wandb/run-20250517_180634-gas3osp7/logs</code>"
      ],
      "text/plain": [
       "<IPython.core.display.HTML object>"
      ]
     },
     "metadata": {},
     "output_type": "display_data"
    },
    {
     "name": "stderr",
     "output_type": "stream",
     "text": [
      "\u001b[34m\u001b[1mwandb\u001b[0m: Sweep Agent: Waiting for job.\n",
      "\u001b[34m\u001b[1mwandb\u001b[0m: Job received.\n",
      "\u001b[34m\u001b[1mwandb\u001b[0m: Agent Starting Run: wbpo3h9x with config:\n",
      "\u001b[34m\u001b[1mwandb\u001b[0m: \tbatchsize: 32\n",
      "\u001b[34m\u001b[1mwandb\u001b[0m: \tbidirection: no\n",
      "\u001b[34m\u001b[1mwandb\u001b[0m: \tcellType: GRU\n",
      "\u001b[34m\u001b[1mwandb\u001b[0m: \tdecoderLayers: 5\n",
      "\u001b[34m\u001b[1mwandb\u001b[0m: \tdropout: 0.2\n",
      "\u001b[34m\u001b[1mwandb\u001b[0m: \tembSize: 16\n",
      "\u001b[34m\u001b[1mwandb\u001b[0m: \tencoderLayers: 1\n",
      "\u001b[34m\u001b[1mwandb\u001b[0m: \tepochs: 20\n",
      "\u001b[34m\u001b[1mwandb\u001b[0m: \thiddenLayerNuerons: 512\n",
      "\u001b[34m\u001b[1mwandb\u001b[0m: \tlearningRate: 0.001\n",
      "\u001b[34m\u001b[1mwandb\u001b[0m: \toptimizer: Nadam\n",
      "\u001b[34m\u001b[1mwandb\u001b[0m: \ttf_ratio: 0.7\n"
     ]
    },
    {
     "data": {
      "text/html": [
       "Ignoring project 'CS23S025-Assignment-3-DL' when running a sweep."
      ],
      "text/plain": [
       "<IPython.core.display.HTML object>"
      ]
     },
     "metadata": {},
     "output_type": "display_data"
    },
    {
     "data": {
      "text/html": [
       "Tracking run with wandb version 0.19.9"
      ],
      "text/plain": [
       "<IPython.core.display.HTML object>"
      ]
     },
     "metadata": {},
     "output_type": "display_data"
    },
    {
     "data": {
      "text/html": [
       "Run data is saved locally in <code>/kaggle/working/wandb/run-20250517_185630-wbpo3h9x</code>"
      ],
      "text/plain": [
       "<IPython.core.display.HTML object>"
      ]
     },
     "metadata": {},
     "output_type": "display_data"
    },
    {
     "data": {
      "text/html": [
       "Syncing run <strong><a href='https://wandb.ai/cs23s025-indian-institute-of-technology-madras/CS23S025-Assignment-3-DL/runs/wbpo3h9x' target=\"_blank\">dulcet-sweep-75</a></strong> to <a href='https://wandb.ai/cs23s025-indian-institute-of-technology-madras/CS23S025-Assignment-3-DL' target=\"_blank\">Weights & Biases</a> (<a href='https://wandb.me/developer-guide' target=\"_blank\">docs</a>)<br>Sweep page: <a href='https://wandb.ai/cs23s025-indian-institute-of-technology-madras/CS23S025-Assignment-3-DL/sweeps/92mo9e7w' target=\"_blank\">https://wandb.ai/cs23s025-indian-institute-of-technology-madras/CS23S025-Assignment-3-DL/sweeps/92mo9e7w</a>"
      ],
      "text/plain": [
       "<IPython.core.display.HTML object>"
      ]
     },
     "metadata": {},
     "output_type": "display_data"
    },
    {
     "data": {
      "text/html": [
       " View project at <a href='https://wandb.ai/cs23s025-indian-institute-of-technology-madras/CS23S025-Assignment-3-DL' target=\"_blank\">https://wandb.ai/cs23s025-indian-institute-of-technology-madras/CS23S025-Assignment-3-DL</a>"
      ],
      "text/plain": [
       "<IPython.core.display.HTML object>"
      ]
     },
     "metadata": {},
     "output_type": "display_data"
    },
    {
     "data": {
      "text/html": [
       " View sweep at <a href='https://wandb.ai/cs23s025-indian-institute-of-technology-madras/CS23S025-Assignment-3-DL/sweeps/92mo9e7w' target=\"_blank\">https://wandb.ai/cs23s025-indian-institute-of-technology-madras/CS23S025-Assignment-3-DL/sweeps/92mo9e7w</a>"
      ],
      "text/plain": [
       "<IPython.core.display.HTML object>"
      ]
     },
     "metadata": {},
     "output_type": "display_data"
    },
    {
     "data": {
      "text/html": [
       " View run at <a href='https://wandb.ai/cs23s025-indian-institute-of-technology-madras/CS23S025-Assignment-3-DL/runs/wbpo3h9x' target=\"_blank\">https://wandb.ai/cs23s025-indian-institute-of-technology-madras/CS23S025-Assignment-3-DL/runs/wbpo3h9x</a>"
      ],
      "text/plain": [
       "<IPython.core.display.HTML object>"
      ]
     },
     "metadata": {},
     "output_type": "display_data"
    },
    {
     "data": {
      "text/html": [],
      "text/plain": [
       "<IPython.core.display.HTML object>"
      ]
     },
     "metadata": {},
     "output_type": "display_data"
    },
    {
     "data": {
      "text/html": [
       "<br>    <style><br>        .wandb-row {<br>            display: flex;<br>            flex-direction: row;<br>            flex-wrap: wrap;<br>            justify-content: flex-start;<br>            width: 100%;<br>        }<br>        .wandb-col {<br>            display: flex;<br>            flex-direction: column;<br>            flex-basis: 100%;<br>            flex: 1;<br>            padding: 10px;<br>        }<br>    </style><br><div class=\"wandb-row\"><div class=\"wandb-col\"><h3>Run history:</h3><br/><table class=\"wandb\"><tr><td>train_accuracy</td><td>▁▅▆▇▆▆▇▇▇▇▇███▇█████</td></tr><tr><td>train_loss</td><td>█▃▂▂▂▂▁▂▁▁▁▁▁▁▁▁▁▁▁▁</td></tr><tr><td>validation_accuracy</td><td>▅▃▃▃▃▆▄▂▄▄▁▄█▂▄▂▆█▄▃</td></tr><tr><td>validation_char_accuracy</td><td>▂▁▂▃▂▅▄▂▄▄▁▄▇▂▄▂▅█▄▃</td></tr><tr><td>validation_loss</td><td>▇█▆▅▇▃▅▆▄▄█▅▂▇▅▇▄▁▆▇</td></tr></table><br/></div><div class=\"wandb-col\"><h3>Run summary:</h3><br/><table class=\"wandb\"><tr><td>train_accuracy</td><td>0.79867</td></tr><tr><td>train_loss</td><td>0.06418</td></tr><tr><td>validation_accuracy</td><td>0.75998</td></tr><tr><td>validation_char_accuracy</td><td>0.9718</td></tr><tr><td>validation_loss</td><td>0.09622</td></tr></table><br/></div></div>"
      ],
      "text/plain": [
       "<IPython.core.display.HTML object>"
      ]
     },
     "metadata": {},
     "output_type": "display_data"
    },
    {
     "data": {
      "text/html": [
       " View run <strong style=\"color:#cdcd00\">embedding16_cellTypeGRU_batchSize32</strong> at: <a href='https://wandb.ai/cs23s025-indian-institute-of-technology-madras/CS23S025-Assignment-3-DL/runs/wbpo3h9x' target=\"_blank\">https://wandb.ai/cs23s025-indian-institute-of-technology-madras/CS23S025-Assignment-3-DL/runs/wbpo3h9x</a><br> View project at: <a href='https://wandb.ai/cs23s025-indian-institute-of-technology-madras/CS23S025-Assignment-3-DL' target=\"_blank\">https://wandb.ai/cs23s025-indian-institute-of-technology-madras/CS23S025-Assignment-3-DL</a><br>Synced 5 W&B file(s), 0 media file(s), 0 artifact file(s) and 0 other file(s)"
      ],
      "text/plain": [
       "<IPython.core.display.HTML object>"
      ]
     },
     "metadata": {},
     "output_type": "display_data"
    },
    {
     "data": {
      "text/html": [
       "Find logs at: <code>./wandb/run-20250517_185630-wbpo3h9x/logs</code>"
      ],
      "text/plain": [
       "<IPython.core.display.HTML object>"
      ]
     },
     "metadata": {},
     "output_type": "display_data"
    },
    {
     "name": "stderr",
     "output_type": "stream",
     "text": [
      "\u001b[34m\u001b[1mwandb\u001b[0m: Agent Starting Run: 931fwv3e with config:\n",
      "\u001b[34m\u001b[1mwandb\u001b[0m: \tbatchsize: 32\n",
      "\u001b[34m\u001b[1mwandb\u001b[0m: \tbidirection: no\n",
      "\u001b[34m\u001b[1mwandb\u001b[0m: \tcellType: RNN\n",
      "\u001b[34m\u001b[1mwandb\u001b[0m: \tdecoderLayers: 10\n",
      "\u001b[34m\u001b[1mwandb\u001b[0m: \tdropout: 0\n",
      "\u001b[34m\u001b[1mwandb\u001b[0m: \tembSize: 64\n",
      "\u001b[34m\u001b[1mwandb\u001b[0m: \tencoderLayers: 1\n",
      "\u001b[34m\u001b[1mwandb\u001b[0m: \tepochs: 20\n",
      "\u001b[34m\u001b[1mwandb\u001b[0m: \thiddenLayerNuerons: 512\n",
      "\u001b[34m\u001b[1mwandb\u001b[0m: \tlearningRate: 0.001\n",
      "\u001b[34m\u001b[1mwandb\u001b[0m: \toptimizer: Adam\n",
      "\u001b[34m\u001b[1mwandb\u001b[0m: \ttf_ratio: 0.7\n"
     ]
    },
    {
     "data": {
      "text/html": [
       "Ignoring project 'CS23S025-Assignment-3-DL' when running a sweep."
      ],
      "text/plain": [
       "<IPython.core.display.HTML object>"
      ]
     },
     "metadata": {},
     "output_type": "display_data"
    },
    {
     "data": {
      "text/html": [
       "Tracking run with wandb version 0.19.9"
      ],
      "text/plain": [
       "<IPython.core.display.HTML object>"
      ]
     },
     "metadata": {},
     "output_type": "display_data"
    },
    {
     "data": {
      "text/html": [
       "Run data is saved locally in <code>/kaggle/working/wandb/run-20250517_193719-931fwv3e</code>"
      ],
      "text/plain": [
       "<IPython.core.display.HTML object>"
      ]
     },
     "metadata": {},
     "output_type": "display_data"
    },
    {
     "data": {
      "text/html": [
       "Syncing run <strong><a href='https://wandb.ai/cs23s025-indian-institute-of-technology-madras/CS23S025-Assignment-3-DL/runs/931fwv3e' target=\"_blank\">elated-sweep-78</a></strong> to <a href='https://wandb.ai/cs23s025-indian-institute-of-technology-madras/CS23S025-Assignment-3-DL' target=\"_blank\">Weights & Biases</a> (<a href='https://wandb.me/developer-guide' target=\"_blank\">docs</a>)<br>Sweep page: <a href='https://wandb.ai/cs23s025-indian-institute-of-technology-madras/CS23S025-Assignment-3-DL/sweeps/92mo9e7w' target=\"_blank\">https://wandb.ai/cs23s025-indian-institute-of-technology-madras/CS23S025-Assignment-3-DL/sweeps/92mo9e7w</a>"
      ],
      "text/plain": [
       "<IPython.core.display.HTML object>"
      ]
     },
     "metadata": {},
     "output_type": "display_data"
    },
    {
     "data": {
      "text/html": [
       " View project at <a href='https://wandb.ai/cs23s025-indian-institute-of-technology-madras/CS23S025-Assignment-3-DL' target=\"_blank\">https://wandb.ai/cs23s025-indian-institute-of-technology-madras/CS23S025-Assignment-3-DL</a>"
      ],
      "text/plain": [
       "<IPython.core.display.HTML object>"
      ]
     },
     "metadata": {},
     "output_type": "display_data"
    },
    {
     "data": {
      "text/html": [
       " View sweep at <a href='https://wandb.ai/cs23s025-indian-institute-of-technology-madras/CS23S025-Assignment-3-DL/sweeps/92mo9e7w' target=\"_blank\">https://wandb.ai/cs23s025-indian-institute-of-technology-madras/CS23S025-Assignment-3-DL/sweeps/92mo9e7w</a>"
      ],
      "text/plain": [
       "<IPython.core.display.HTML object>"
      ]
     },
     "metadata": {},
     "output_type": "display_data"
    },
    {
     "data": {
      "text/html": [
       " View run at <a href='https://wandb.ai/cs23s025-indian-institute-of-technology-madras/CS23S025-Assignment-3-DL/runs/931fwv3e' target=\"_blank\">https://wandb.ai/cs23s025-indian-institute-of-technology-madras/CS23S025-Assignment-3-DL/runs/931fwv3e</a>"
      ],
      "text/plain": [
       "<IPython.core.display.HTML object>"
      ]
     },
     "metadata": {},
     "output_type": "display_data"
    },
    {
     "data": {
      "text/html": [],
      "text/plain": [
       "<IPython.core.display.HTML object>"
      ]
     },
     "metadata": {},
     "output_type": "display_data"
    },
    {
     "data": {
      "text/html": [
       "<br>    <style><br>        .wandb-row {<br>            display: flex;<br>            flex-direction: row;<br>            flex-wrap: wrap;<br>            justify-content: flex-start;<br>            width: 100%;<br>        }<br>        .wandb-col {<br>            display: flex;<br>            flex-direction: column;<br>            flex-basis: 100%;<br>            flex: 1;<br>            padding: 10px;<br>        }<br>    </style><br><div class=\"wandb-row\"><div class=\"wandb-col\"><h3>Run history:</h3><br/><table class=\"wandb\"><tr><td>train_accuracy</td><td>▁▅▅▆▆▇▇▆▇▇▇▇█▆▇█▇▇▇█</td></tr><tr><td>train_loss</td><td>█▃▃▂▂▂▁▂▁▁▁▁▁▂▁▁▁▁▁▁</td></tr><tr><td>validation_accuracy</td><td>▃██▁▆▇▇▆▇█▆██▇▇█▇▆▇█</td></tr><tr><td>validation_char_accuracy</td><td>▂██▁▆▇▆▆▇█▆██▇▇█▇▆▆▇</td></tr><tr><td>validation_loss</td><td>▇▂▁█▃▂▂▃▂▁▂▁▁▂▂▁▂▃▂▂</td></tr></table><br/></div><div class=\"wandb-col\"><h3>Run summary:</h3><br/><table class=\"wandb\"><tr><td>train_accuracy</td><td>0.77112</td></tr><tr><td>train_loss</td><td>0.09171</td></tr><tr><td>validation_accuracy</td><td>0.76251</td></tr><tr><td>validation_char_accuracy</td><td>0.97001</td></tr><tr><td>validation_loss</td><td>0.0959</td></tr></table><br/></div></div>"
      ],
      "text/plain": [
       "<IPython.core.display.HTML object>"
      ]
     },
     "metadata": {},
     "output_type": "display_data"
    },
    {
     "data": {
      "text/html": [
       " View run <strong style=\"color:#cdcd00\">embedding64_cellTypeRNN_batchSize32</strong> at: <a href='https://wandb.ai/cs23s025-indian-institute-of-technology-madras/CS23S025-Assignment-3-DL/runs/931fwv3e' target=\"_blank\">https://wandb.ai/cs23s025-indian-institute-of-technology-madras/CS23S025-Assignment-3-DL/runs/931fwv3e</a><br> View project at: <a href='https://wandb.ai/cs23s025-indian-institute-of-technology-madras/CS23S025-Assignment-3-DL' target=\"_blank\">https://wandb.ai/cs23s025-indian-institute-of-technology-madras/CS23S025-Assignment-3-DL</a><br>Synced 5 W&B file(s), 0 media file(s), 0 artifact file(s) and 0 other file(s)"
      ],
      "text/plain": [
       "<IPython.core.display.HTML object>"
      ]
     },
     "metadata": {},
     "output_type": "display_data"
    },
    {
     "data": {
      "text/html": [
       "Find logs at: <code>./wandb/run-20250517_193719-931fwv3e/logs</code>"
      ],
      "text/plain": [
       "<IPython.core.display.HTML object>"
      ]
     },
     "metadata": {},
     "output_type": "display_data"
    },
    {
     "name": "stderr",
     "output_type": "stream",
     "text": [
      "\u001b[34m\u001b[1mwandb\u001b[0m: Sweep Agent: Waiting for job.\n",
      "\u001b[34m\u001b[1mwandb\u001b[0m: Job received.\n",
      "\u001b[34m\u001b[1mwandb\u001b[0m: Agent Starting Run: bbadnakb with config:\n",
      "\u001b[34m\u001b[1mwandb\u001b[0m: \tbatchsize: 32\n",
      "\u001b[34m\u001b[1mwandb\u001b[0m: \tbidirection: no\n",
      "\u001b[34m\u001b[1mwandb\u001b[0m: \tcellType: GRU\n",
      "\u001b[34m\u001b[1mwandb\u001b[0m: \tdecoderLayers: 10\n",
      "\u001b[34m\u001b[1mwandb\u001b[0m: \tdropout: 0.2\n",
      "\u001b[34m\u001b[1mwandb\u001b[0m: \tembSize: 16\n",
      "\u001b[34m\u001b[1mwandb\u001b[0m: \tencoderLayers: 1\n",
      "\u001b[34m\u001b[1mwandb\u001b[0m: \tepochs: 20\n",
      "\u001b[34m\u001b[1mwandb\u001b[0m: \thiddenLayerNuerons: 256\n",
      "\u001b[34m\u001b[1mwandb\u001b[0m: \tlearningRate: 0.001\n",
      "\u001b[34m\u001b[1mwandb\u001b[0m: \toptimizer: Nadam\n",
      "\u001b[34m\u001b[1mwandb\u001b[0m: \ttf_ratio: 0.7\n"
     ]
    },
    {
     "data": {
      "text/html": [
       "Ignoring project 'CS23S025-Assignment-3-DL' when running a sweep."
      ],
      "text/plain": [
       "<IPython.core.display.HTML object>"
      ]
     },
     "metadata": {},
     "output_type": "display_data"
    },
    {
     "data": {
      "text/html": [
       "Tracking run with wandb version 0.19.9"
      ],
      "text/plain": [
       "<IPython.core.display.HTML object>"
      ]
     },
     "metadata": {},
     "output_type": "display_data"
    },
    {
     "data": {
      "text/html": [
       "Run data is saved locally in <code>/kaggle/working/wandb/run-20250517_201504-bbadnakb</code>"
      ],
      "text/plain": [
       "<IPython.core.display.HTML object>"
      ]
     },
     "metadata": {},
     "output_type": "display_data"
    },
    {
     "data": {
      "text/html": [
       "Syncing run <strong><a href='https://wandb.ai/cs23s025-indian-institute-of-technology-madras/CS23S025-Assignment-3-DL/runs/bbadnakb' target=\"_blank\">chocolate-sweep-81</a></strong> to <a href='https://wandb.ai/cs23s025-indian-institute-of-technology-madras/CS23S025-Assignment-3-DL' target=\"_blank\">Weights & Biases</a> (<a href='https://wandb.me/developer-guide' target=\"_blank\">docs</a>)<br>Sweep page: <a href='https://wandb.ai/cs23s025-indian-institute-of-technology-madras/CS23S025-Assignment-3-DL/sweeps/92mo9e7w' target=\"_blank\">https://wandb.ai/cs23s025-indian-institute-of-technology-madras/CS23S025-Assignment-3-DL/sweeps/92mo9e7w</a>"
      ],
      "text/plain": [
       "<IPython.core.display.HTML object>"
      ]
     },
     "metadata": {},
     "output_type": "display_data"
    },
    {
     "data": {
      "text/html": [
       " View project at <a href='https://wandb.ai/cs23s025-indian-institute-of-technology-madras/CS23S025-Assignment-3-DL' target=\"_blank\">https://wandb.ai/cs23s025-indian-institute-of-technology-madras/CS23S025-Assignment-3-DL</a>"
      ],
      "text/plain": [
       "<IPython.core.display.HTML object>"
      ]
     },
     "metadata": {},
     "output_type": "display_data"
    },
    {
     "data": {
      "text/html": [
       " View sweep at <a href='https://wandb.ai/cs23s025-indian-institute-of-technology-madras/CS23S025-Assignment-3-DL/sweeps/92mo9e7w' target=\"_blank\">https://wandb.ai/cs23s025-indian-institute-of-technology-madras/CS23S025-Assignment-3-DL/sweeps/92mo9e7w</a>"
      ],
      "text/plain": [
       "<IPython.core.display.HTML object>"
      ]
     },
     "metadata": {},
     "output_type": "display_data"
    },
    {
     "data": {
      "text/html": [
       " View run at <a href='https://wandb.ai/cs23s025-indian-institute-of-technology-madras/CS23S025-Assignment-3-DL/runs/bbadnakb' target=\"_blank\">https://wandb.ai/cs23s025-indian-institute-of-technology-madras/CS23S025-Assignment-3-DL/runs/bbadnakb</a>"
      ],
      "text/plain": [
       "<IPython.core.display.HTML object>"
      ]
     },
     "metadata": {},
     "output_type": "display_data"
    },
    {
     "data": {
      "text/html": [],
      "text/plain": [
       "<IPython.core.display.HTML object>"
      ]
     },
     "metadata": {},
     "output_type": "display_data"
    },
    {
     "data": {
      "text/html": [
       "<br>    <style><br>        .wandb-row {<br>            display: flex;<br>            flex-direction: row;<br>            flex-wrap: wrap;<br>            justify-content: flex-start;<br>            width: 100%;<br>        }<br>        .wandb-col {<br>            display: flex;<br>            flex-direction: column;<br>            flex-basis: 100%;<br>            flex: 1;<br>            padding: 10px;<br>        }<br>    </style><br><div class=\"wandb-row\"><div class=\"wandb-col\"><h3>Run history:</h3><br/><table class=\"wandb\"><tr><td>train_accuracy</td><td>▁▆▆▆▇▇▇▇▇▇█▇▇███████</td></tr><tr><td>train_loss</td><td>█▃▂▂▂▂▂▁▁▁▁▁▁▁▁▁▁▁▁▁</td></tr><tr><td>validation_accuracy</td><td>▁▆▆▆▃▆▃▆██▅▆▅█▆█▇▇▆▆</td></tr><tr><td>validation_char_accuracy</td><td>▁▅▆▆▄▆▄▆▇█▆▇▅█▇█▇▇▇▇</td></tr><tr><td>validation_loss</td><td>█▃▃▂▄▂▄▂▁▁▃▂▃▁▂▁▂▂▂▂</td></tr></table><br/></div><div class=\"wandb-col\"><h3>Run summary:</h3><br/><table class=\"wandb\"><tr><td>train_accuracy</td><td>0.81381</td></tr><tr><td>train_loss</td><td>0.06038</td></tr><tr><td>validation_accuracy</td><td>0.77329</td></tr><tr><td>validation_char_accuracy</td><td>0.97449</td></tr><tr><td>validation_loss</td><td>0.08741</td></tr></table><br/></div></div>"
      ],
      "text/plain": [
       "<IPython.core.display.HTML object>"
      ]
     },
     "metadata": {},
     "output_type": "display_data"
    },
    {
     "data": {
      "text/html": [
       " View run <strong style=\"color:#cdcd00\">embedding16_cellTypeGRU_batchSize32</strong> at: <a href='https://wandb.ai/cs23s025-indian-institute-of-technology-madras/CS23S025-Assignment-3-DL/runs/bbadnakb' target=\"_blank\">https://wandb.ai/cs23s025-indian-institute-of-technology-madras/CS23S025-Assignment-3-DL/runs/bbadnakb</a><br> View project at: <a href='https://wandb.ai/cs23s025-indian-institute-of-technology-madras/CS23S025-Assignment-3-DL' target=\"_blank\">https://wandb.ai/cs23s025-indian-institute-of-technology-madras/CS23S025-Assignment-3-DL</a><br>Synced 5 W&B file(s), 0 media file(s), 0 artifact file(s) and 0 other file(s)"
      ],
      "text/plain": [
       "<IPython.core.display.HTML object>"
      ]
     },
     "metadata": {},
     "output_type": "display_data"
    },
    {
     "data": {
      "text/html": [
       "Find logs at: <code>./wandb/run-20250517_201504-bbadnakb/logs</code>"
      ],
      "text/plain": [
       "<IPython.core.display.HTML object>"
      ]
     },
     "metadata": {},
     "output_type": "display_data"
    },
    {
     "name": "stderr",
     "output_type": "stream",
     "text": [
      "\u001b[34m\u001b[1mwandb\u001b[0m: Sweep Agent: Waiting for job.\n",
      "\u001b[34m\u001b[1mwandb\u001b[0m: Job received.\n",
      "\u001b[34m\u001b[1mwandb\u001b[0m: Agent Starting Run: 1ktvb7pn with config:\n",
      "\u001b[34m\u001b[1mwandb\u001b[0m: \tbatchsize: 32\n",
      "\u001b[34m\u001b[1mwandb\u001b[0m: \tbidirection: no\n",
      "\u001b[34m\u001b[1mwandb\u001b[0m: \tcellType: RNN\n",
      "\u001b[34m\u001b[1mwandb\u001b[0m: \tdecoderLayers: 5\n",
      "\u001b[34m\u001b[1mwandb\u001b[0m: \tdropout: 0.1\n",
      "\u001b[34m\u001b[1mwandb\u001b[0m: \tembSize: 16\n",
      "\u001b[34m\u001b[1mwandb\u001b[0m: \tencoderLayers: 1\n",
      "\u001b[34m\u001b[1mwandb\u001b[0m: \tepochs: 20\n",
      "\u001b[34m\u001b[1mwandb\u001b[0m: \thiddenLayerNuerons: 256\n",
      "\u001b[34m\u001b[1mwandb\u001b[0m: \tlearningRate: 0.001\n",
      "\u001b[34m\u001b[1mwandb\u001b[0m: \toptimizer: Nadam\n",
      "\u001b[34m\u001b[1mwandb\u001b[0m: \ttf_ratio: 0.7\n"
     ]
    },
    {
     "data": {
      "text/html": [
       "Ignoring project 'CS23S025-Assignment-3-DL' when running a sweep."
      ],
      "text/plain": [
       "<IPython.core.display.HTML object>"
      ]
     },
     "metadata": {},
     "output_type": "display_data"
    },
    {
     "data": {
      "text/html": [
       "Tracking run with wandb version 0.19.9"
      ],
      "text/plain": [
       "<IPython.core.display.HTML object>"
      ]
     },
     "metadata": {},
     "output_type": "display_data"
    },
    {
     "data": {
      "text/html": [
       "Run data is saved locally in <code>/kaggle/working/wandb/run-20250517_205623-1ktvb7pn</code>"
      ],
      "text/plain": [
       "<IPython.core.display.HTML object>"
      ]
     },
     "metadata": {},
     "output_type": "display_data"
    },
    {
     "data": {
      "text/html": [
       "Syncing run <strong><a href='https://wandb.ai/cs23s025-indian-institute-of-technology-madras/CS23S025-Assignment-3-DL/runs/1ktvb7pn' target=\"_blank\">bumbling-sweep-84</a></strong> to <a href='https://wandb.ai/cs23s025-indian-institute-of-technology-madras/CS23S025-Assignment-3-DL' target=\"_blank\">Weights & Biases</a> (<a href='https://wandb.me/developer-guide' target=\"_blank\">docs</a>)<br>Sweep page: <a href='https://wandb.ai/cs23s025-indian-institute-of-technology-madras/CS23S025-Assignment-3-DL/sweeps/92mo9e7w' target=\"_blank\">https://wandb.ai/cs23s025-indian-institute-of-technology-madras/CS23S025-Assignment-3-DL/sweeps/92mo9e7w</a>"
      ],
      "text/plain": [
       "<IPython.core.display.HTML object>"
      ]
     },
     "metadata": {},
     "output_type": "display_data"
    },
    {
     "data": {
      "text/html": [
       " View project at <a href='https://wandb.ai/cs23s025-indian-institute-of-technology-madras/CS23S025-Assignment-3-DL' target=\"_blank\">https://wandb.ai/cs23s025-indian-institute-of-technology-madras/CS23S025-Assignment-3-DL</a>"
      ],
      "text/plain": [
       "<IPython.core.display.HTML object>"
      ]
     },
     "metadata": {},
     "output_type": "display_data"
    },
    {
     "data": {
      "text/html": [
       " View sweep at <a href='https://wandb.ai/cs23s025-indian-institute-of-technology-madras/CS23S025-Assignment-3-DL/sweeps/92mo9e7w' target=\"_blank\">https://wandb.ai/cs23s025-indian-institute-of-technology-madras/CS23S025-Assignment-3-DL/sweeps/92mo9e7w</a>"
      ],
      "text/plain": [
       "<IPython.core.display.HTML object>"
      ]
     },
     "metadata": {},
     "output_type": "display_data"
    },
    {
     "data": {
      "text/html": [
       " View run at <a href='https://wandb.ai/cs23s025-indian-institute-of-technology-madras/CS23S025-Assignment-3-DL/runs/1ktvb7pn' target=\"_blank\">https://wandb.ai/cs23s025-indian-institute-of-technology-madras/CS23S025-Assignment-3-DL/runs/1ktvb7pn</a>"
      ],
      "text/plain": [
       "<IPython.core.display.HTML object>"
      ]
     },
     "metadata": {},
     "output_type": "display_data"
    },
    {
     "data": {
      "text/html": [],
      "text/plain": [
       "<IPython.core.display.HTML object>"
      ]
     },
     "metadata": {},
     "output_type": "display_data"
    },
    {
     "data": {
      "text/html": [
       "<br>    <style><br>        .wandb-row {<br>            display: flex;<br>            flex-direction: row;<br>            flex-wrap: wrap;<br>            justify-content: flex-start;<br>            width: 100%;<br>        }<br>        .wandb-col {<br>            display: flex;<br>            flex-direction: column;<br>            flex-basis: 100%;<br>            flex: 1;<br>            padding: 10px;<br>        }<br>    </style><br><div class=\"wandb-row\"><div class=\"wandb-col\"><h3>Run history:</h3><br/><table class=\"wandb\"><tr><td>train_accuracy</td><td>▁▆▇▇▇██▇▇▇▇█▇███████</td></tr><tr><td>train_loss</td><td>█▂▂▂▂▁▁▁▁▁▁▁▁▁▁▁▁▁▁▁</td></tr><tr><td>validation_accuracy</td><td>▁▂▃▇▄▄▄▇▇▇▆▆▇▇▄▅█▅▇▅</td></tr><tr><td>validation_char_accuracy</td><td>▁▁▃▇▅▄▅▆▇▇▇▆▆▇▅▅█▅▆▅</td></tr><tr><td>validation_loss</td><td>█▇▅▂▄▄▃▂▂▂▂▂▂▂▃▃▁▃▂▃</td></tr></table><br/></div><div class=\"wandb-col\"><h3>Run summary:</h3><br/><table class=\"wandb\"><tr><td>train_accuracy</td><td>0.75972</td></tr><tr><td>train_loss</td><td>0.09544</td></tr><tr><td>validation_accuracy</td><td>0.72786</td></tr><tr><td>validation_char_accuracy</td><td>0.96612</td></tr><tr><td>validation_loss</td><td>0.1128</td></tr></table><br/></div></div>"
      ],
      "text/plain": [
       "<IPython.core.display.HTML object>"
      ]
     },
     "metadata": {},
     "output_type": "display_data"
    },
    {
     "data": {
      "text/html": [
       " View run <strong style=\"color:#cdcd00\">embedding16_cellTypeRNN_batchSize32</strong> at: <a href='https://wandb.ai/cs23s025-indian-institute-of-technology-madras/CS23S025-Assignment-3-DL/runs/1ktvb7pn' target=\"_blank\">https://wandb.ai/cs23s025-indian-institute-of-technology-madras/CS23S025-Assignment-3-DL/runs/1ktvb7pn</a><br> View project at: <a href='https://wandb.ai/cs23s025-indian-institute-of-technology-madras/CS23S025-Assignment-3-DL' target=\"_blank\">https://wandb.ai/cs23s025-indian-institute-of-technology-madras/CS23S025-Assignment-3-DL</a><br>Synced 5 W&B file(s), 0 media file(s), 0 artifact file(s) and 0 other file(s)"
      ],
      "text/plain": [
       "<IPython.core.display.HTML object>"
      ]
     },
     "metadata": {},
     "output_type": "display_data"
    },
    {
     "data": {
      "text/html": [
       "Find logs at: <code>./wandb/run-20250517_205623-1ktvb7pn/logs</code>"
      ],
      "text/plain": [
       "<IPython.core.display.HTML object>"
      ]
     },
     "metadata": {},
     "output_type": "display_data"
    },
    {
     "name": "stderr",
     "output_type": "stream",
     "text": [
      "\u001b[34m\u001b[1mwandb\u001b[0m: Sweep Agent: Waiting for job.\n",
      "\u001b[34m\u001b[1mwandb\u001b[0m: Job received.\n",
      "\u001b[34m\u001b[1mwandb\u001b[0m: Agent Starting Run: x21bmfnz with config:\n",
      "\u001b[34m\u001b[1mwandb\u001b[0m: \tbatchsize: 128\n",
      "\u001b[34m\u001b[1mwandb\u001b[0m: \tbidirection: no\n",
      "\u001b[34m\u001b[1mwandb\u001b[0m: \tcellType: RNN\n",
      "\u001b[34m\u001b[1mwandb\u001b[0m: \tdecoderLayers: 15\n",
      "\u001b[34m\u001b[1mwandb\u001b[0m: \tdropout: 0.5\n",
      "\u001b[34m\u001b[1mwandb\u001b[0m: \tembSize: 16\n",
      "\u001b[34m\u001b[1mwandb\u001b[0m: \tencoderLayers: 1\n",
      "\u001b[34m\u001b[1mwandb\u001b[0m: \tepochs: 25\n",
      "\u001b[34m\u001b[1mwandb\u001b[0m: \thiddenLayerNuerons: 512\n",
      "\u001b[34m\u001b[1mwandb\u001b[0m: \tlearningRate: 0.0001\n",
      "\u001b[34m\u001b[1mwandb\u001b[0m: \toptimizer: Nadam\n",
      "\u001b[34m\u001b[1mwandb\u001b[0m: \ttf_ratio: 0.7\n"
     ]
    },
    {
     "data": {
      "text/html": [
       "Ignoring project 'CS23S025-Assignment-3-DL' when running a sweep."
      ],
      "text/plain": [
       "<IPython.core.display.HTML object>"
      ]
     },
     "metadata": {},
     "output_type": "display_data"
    },
    {
     "data": {
      "text/html": [
       "Tracking run with wandb version 0.19.9"
      ],
      "text/plain": [
       "<IPython.core.display.HTML object>"
      ]
     },
     "metadata": {},
     "output_type": "display_data"
    },
    {
     "data": {
      "text/html": [
       "Run data is saved locally in <code>/kaggle/working/wandb/run-20250517_213354-x21bmfnz</code>"
      ],
      "text/plain": [
       "<IPython.core.display.HTML object>"
      ]
     },
     "metadata": {},
     "output_type": "display_data"
    },
    {
     "data": {
      "text/html": [
       "Syncing run <strong><a href='https://wandb.ai/cs23s025-indian-institute-of-technology-madras/CS23S025-Assignment-3-DL/runs/x21bmfnz' target=\"_blank\">usual-sweep-88</a></strong> to <a href='https://wandb.ai/cs23s025-indian-institute-of-technology-madras/CS23S025-Assignment-3-DL' target=\"_blank\">Weights & Biases</a> (<a href='https://wandb.me/developer-guide' target=\"_blank\">docs</a>)<br>Sweep page: <a href='https://wandb.ai/cs23s025-indian-institute-of-technology-madras/CS23S025-Assignment-3-DL/sweeps/92mo9e7w' target=\"_blank\">https://wandb.ai/cs23s025-indian-institute-of-technology-madras/CS23S025-Assignment-3-DL/sweeps/92mo9e7w</a>"
      ],
      "text/plain": [
       "<IPython.core.display.HTML object>"
      ]
     },
     "metadata": {},
     "output_type": "display_data"
    },
    {
     "data": {
      "text/html": [
       " View project at <a href='https://wandb.ai/cs23s025-indian-institute-of-technology-madras/CS23S025-Assignment-3-DL' target=\"_blank\">https://wandb.ai/cs23s025-indian-institute-of-technology-madras/CS23S025-Assignment-3-DL</a>"
      ],
      "text/plain": [
       "<IPython.core.display.HTML object>"
      ]
     },
     "metadata": {},
     "output_type": "display_data"
    },
    {
     "data": {
      "text/html": [
       " View sweep at <a href='https://wandb.ai/cs23s025-indian-institute-of-technology-madras/CS23S025-Assignment-3-DL/sweeps/92mo9e7w' target=\"_blank\">https://wandb.ai/cs23s025-indian-institute-of-technology-madras/CS23S025-Assignment-3-DL/sweeps/92mo9e7w</a>"
      ],
      "text/plain": [
       "<IPython.core.display.HTML object>"
      ]
     },
     "metadata": {},
     "output_type": "display_data"
    },
    {
     "data": {
      "text/html": [
       " View run at <a href='https://wandb.ai/cs23s025-indian-institute-of-technology-madras/CS23S025-Assignment-3-DL/runs/x21bmfnz' target=\"_blank\">https://wandb.ai/cs23s025-indian-institute-of-technology-madras/CS23S025-Assignment-3-DL/runs/x21bmfnz</a>"
      ],
      "text/plain": [
       "<IPython.core.display.HTML object>"
      ]
     },
     "metadata": {},
     "output_type": "display_data"
    },
    {
     "data": {
      "text/html": [],
      "text/plain": [
       "<IPython.core.display.HTML object>"
      ]
     },
     "metadata": {},
     "output_type": "display_data"
    },
    {
     "data": {
      "text/html": [
       "<br>    <style><br>        .wandb-row {<br>            display: flex;<br>            flex-direction: row;<br>            flex-wrap: wrap;<br>            justify-content: flex-start;<br>            width: 100%;<br>        }<br>        .wandb-col {<br>            display: flex;<br>            flex-direction: column;<br>            flex-basis: 100%;<br>            flex: 1;<br>            padding: 10px;<br>        }<br>    </style><br><div class=\"wandb-row\"><div class=\"wandb-col\"><h3>Run history:</h3><br/><table class=\"wandb\"><tr><td>train_accuracy</td><td>▁▁▁▂▄▅▆▆▇▇▇▇▇▇█▇▇▇██▇▇███</td></tr><tr><td>train_loss</td><td>█▆▅▄▃▃▂▂▂▂▂▂▁▂▁▁▁▁▁▁▁▁▁▁▁</td></tr><tr><td>validation_accuracy</td><td>▁▁▂▂▅▅▆▆▅▇▇▆▇▆▇█▇▆██▇▇█▇█</td></tr><tr><td>validation_char_accuracy</td><td>▁▃▄▅▆▆▇▆▆▇▇▇▇▇██▇▇██▇▇█▇█</td></tr><tr><td>validation_loss</td><td>█▇▆▅▄▃▃▃▃▂▂▂▂▂▁▁▂▂▁▁▂▂▁▁▁</td></tr></table><br/></div><div class=\"wandb-col\"><h3>Run summary:</h3><br/><table class=\"wandb\"><tr><td>train_accuracy</td><td>0.70918</td></tr><tr><td>train_loss</td><td>0.13646</td></tr><tr><td>validation_accuracy</td><td>0.77008</td></tr><tr><td>validation_char_accuracy</td><td>0.97424</td></tr><tr><td>validation_loss</td><td>0.1041</td></tr></table><br/></div></div>"
      ],
      "text/plain": [
       "<IPython.core.display.HTML object>"
      ]
     },
     "metadata": {},
     "output_type": "display_data"
    },
    {
     "data": {
      "text/html": [
       " View run <strong style=\"color:#cdcd00\">embedding16_cellTypeRNN_batchSize128</strong> at: <a href='https://wandb.ai/cs23s025-indian-institute-of-technology-madras/CS23S025-Assignment-3-DL/runs/x21bmfnz' target=\"_blank\">https://wandb.ai/cs23s025-indian-institute-of-technology-madras/CS23S025-Assignment-3-DL/runs/x21bmfnz</a><br> View project at: <a href='https://wandb.ai/cs23s025-indian-institute-of-technology-madras/CS23S025-Assignment-3-DL' target=\"_blank\">https://wandb.ai/cs23s025-indian-institute-of-technology-madras/CS23S025-Assignment-3-DL</a><br>Synced 5 W&B file(s), 0 media file(s), 0 artifact file(s) and 0 other file(s)"
      ],
      "text/plain": [
       "<IPython.core.display.HTML object>"
      ]
     },
     "metadata": {},
     "output_type": "display_data"
    },
    {
     "data": {
      "text/html": [
       "Find logs at: <code>./wandb/run-20250517_213354-x21bmfnz/logs</code>"
      ],
      "text/plain": [
       "<IPython.core.display.HTML object>"
      ]
     },
     "metadata": {},
     "output_type": "display_data"
    },
    {
     "name": "stderr",
     "output_type": "stream",
     "text": [
      "\u001b[34m\u001b[1mwandb\u001b[0m: Agent Starting Run: rcnl6dep with config:\n",
      "\u001b[34m\u001b[1mwandb\u001b[0m: \tbatchsize: 32\n",
      "\u001b[34m\u001b[1mwandb\u001b[0m: \tbidirection: no\n",
      "\u001b[34m\u001b[1mwandb\u001b[0m: \tcellType: RNN\n",
      "\u001b[34m\u001b[1mwandb\u001b[0m: \tdecoderLayers: 5\n",
      "\u001b[34m\u001b[1mwandb\u001b[0m: \tdropout: 0.2\n",
      "\u001b[34m\u001b[1mwandb\u001b[0m: \tembSize: 16\n",
      "\u001b[34m\u001b[1mwandb\u001b[0m: \tencoderLayers: 1\n",
      "\u001b[34m\u001b[1mwandb\u001b[0m: \tepochs: 25\n",
      "\u001b[34m\u001b[1mwandb\u001b[0m: \thiddenLayerNuerons: 512\n",
      "\u001b[34m\u001b[1mwandb\u001b[0m: \tlearningRate: 0.0001\n",
      "\u001b[34m\u001b[1mwandb\u001b[0m: \toptimizer: Nadam\n",
      "\u001b[34m\u001b[1mwandb\u001b[0m: \ttf_ratio: 0.7\n"
     ]
    },
    {
     "data": {
      "text/html": [
       "Ignoring project 'CS23S025-Assignment-3-DL' when running a sweep."
      ],
      "text/plain": [
       "<IPython.core.display.HTML object>"
      ]
     },
     "metadata": {},
     "output_type": "display_data"
    },
    {
     "data": {
      "text/html": [
       "Tracking run with wandb version 0.19.9"
      ],
      "text/plain": [
       "<IPython.core.display.HTML object>"
      ]
     },
     "metadata": {},
     "output_type": "display_data"
    },
    {
     "data": {
      "text/html": [
       "Run data is saved locally in <code>/kaggle/working/wandb/run-20250517_214634-rcnl6dep</code>"
      ],
      "text/plain": [
       "<IPython.core.display.HTML object>"
      ]
     },
     "metadata": {},
     "output_type": "display_data"
    },
    {
     "data": {
      "text/html": [
       "Syncing run <strong><a href='https://wandb.ai/cs23s025-indian-institute-of-technology-madras/CS23S025-Assignment-3-DL/runs/rcnl6dep' target=\"_blank\">absurd-sweep-89</a></strong> to <a href='https://wandb.ai/cs23s025-indian-institute-of-technology-madras/CS23S025-Assignment-3-DL' target=\"_blank\">Weights & Biases</a> (<a href='https://wandb.me/developer-guide' target=\"_blank\">docs</a>)<br>Sweep page: <a href='https://wandb.ai/cs23s025-indian-institute-of-technology-madras/CS23S025-Assignment-3-DL/sweeps/92mo9e7w' target=\"_blank\">https://wandb.ai/cs23s025-indian-institute-of-technology-madras/CS23S025-Assignment-3-DL/sweeps/92mo9e7w</a>"
      ],
      "text/plain": [
       "<IPython.core.display.HTML object>"
      ]
     },
     "metadata": {},
     "output_type": "display_data"
    },
    {
     "data": {
      "text/html": [
       " View project at <a href='https://wandb.ai/cs23s025-indian-institute-of-technology-madras/CS23S025-Assignment-3-DL' target=\"_blank\">https://wandb.ai/cs23s025-indian-institute-of-technology-madras/CS23S025-Assignment-3-DL</a>"
      ],
      "text/plain": [
       "<IPython.core.display.HTML object>"
      ]
     },
     "metadata": {},
     "output_type": "display_data"
    },
    {
     "data": {
      "text/html": [
       " View sweep at <a href='https://wandb.ai/cs23s025-indian-institute-of-technology-madras/CS23S025-Assignment-3-DL/sweeps/92mo9e7w' target=\"_blank\">https://wandb.ai/cs23s025-indian-institute-of-technology-madras/CS23S025-Assignment-3-DL/sweeps/92mo9e7w</a>"
      ],
      "text/plain": [
       "<IPython.core.display.HTML object>"
      ]
     },
     "metadata": {},
     "output_type": "display_data"
    },
    {
     "data": {
      "text/html": [
       " View run at <a href='https://wandb.ai/cs23s025-indian-institute-of-technology-madras/CS23S025-Assignment-3-DL/runs/rcnl6dep' target=\"_blank\">https://wandb.ai/cs23s025-indian-institute-of-technology-madras/CS23S025-Assignment-3-DL/runs/rcnl6dep</a>"
      ],
      "text/plain": [
       "<IPython.core.display.HTML object>"
      ]
     },
     "metadata": {},
     "output_type": "display_data"
    },
    {
     "data": {
      "text/html": [],
      "text/plain": [
       "<IPython.core.display.HTML object>"
      ]
     },
     "metadata": {},
     "output_type": "display_data"
    },
    {
     "data": {
      "text/html": [
       "<br>    <style><br>        .wandb-row {<br>            display: flex;<br>            flex-direction: row;<br>            flex-wrap: wrap;<br>            justify-content: flex-start;<br>            width: 100%;<br>        }<br>        .wandb-col {<br>            display: flex;<br>            flex-direction: column;<br>            flex-basis: 100%;<br>            flex: 1;<br>            padding: 10px;<br>        }<br>    </style><br><div class=\"wandb-row\"><div class=\"wandb-col\"><h3>Run history:</h3><br/><table class=\"wandb\"><tr><td>train_accuracy</td><td>▁▄▆▇▆▇▇▇▇▇▇██████████████</td></tr><tr><td>train_loss</td><td>█▄▃▂▂▂▂▂▁▁▁▁▁▁▁▁▁▁▁▁▁▁▁▁▁</td></tr><tr><td>validation_accuracy</td><td>▁▅▆▆▆▆▆▇▇▇▇▇▇█▇▇▇██▇████▇</td></tr><tr><td>validation_char_accuracy</td><td>▁▅▆▆▆▆▆▇▇▇▇▇██▇████▇████▇</td></tr><tr><td>validation_loss</td><td>█▄▃▃▃▂▂▂▂▂▂▁▁▁▂▁▁▁▁▁▁▁▁▁▁</td></tr></table><br/></div><div class=\"wandb-col\"><h3>Run summary:</h3><br/><table class=\"wandb\"><tr><td>train_accuracy</td><td>0.76904</td></tr><tr><td>train_loss</td><td>0.0808</td></tr><tr><td>validation_accuracy</td><td>0.70996</td></tr><tr><td>validation_char_accuracy</td><td>0.96684</td></tr><tr><td>validation_loss</td><td>0.11122</td></tr></table><br/></div></div>"
      ],
      "text/plain": [
       "<IPython.core.display.HTML object>"
      ]
     },
     "metadata": {},
     "output_type": "display_data"
    },
    {
     "data": {
      "text/html": [
       " View run <strong style=\"color:#cdcd00\">embedding16_cellTypeRNN_batchSize32</strong> at: <a href='https://wandb.ai/cs23s025-indian-institute-of-technology-madras/CS23S025-Assignment-3-DL/runs/rcnl6dep' target=\"_blank\">https://wandb.ai/cs23s025-indian-institute-of-technology-madras/CS23S025-Assignment-3-DL/runs/rcnl6dep</a><br> View project at: <a href='https://wandb.ai/cs23s025-indian-institute-of-technology-madras/CS23S025-Assignment-3-DL' target=\"_blank\">https://wandb.ai/cs23s025-indian-institute-of-technology-madras/CS23S025-Assignment-3-DL</a><br>Synced 5 W&B file(s), 0 media file(s), 0 artifact file(s) and 0 other file(s)"
      ],
      "text/plain": [
       "<IPython.core.display.HTML object>"
      ]
     },
     "metadata": {},
     "output_type": "display_data"
    },
    {
     "data": {
      "text/html": [
       "Find logs at: <code>./wandb/run-20250517_214634-rcnl6dep/logs</code>"
      ],
      "text/plain": [
       "<IPython.core.display.HTML object>"
      ]
     },
     "metadata": {},
     "output_type": "display_data"
    },
    {
     "name": "stderr",
     "output_type": "stream",
     "text": [
      "\u001b[34m\u001b[1mwandb\u001b[0m: Agent Starting Run: t9c593qo with config:\n",
      "\u001b[34m\u001b[1mwandb\u001b[0m: \tbatchsize: 32\n",
      "\u001b[34m\u001b[1mwandb\u001b[0m: \tbidirection: Yes\n",
      "\u001b[34m\u001b[1mwandb\u001b[0m: \tcellType: RNN\n",
      "\u001b[34m\u001b[1mwandb\u001b[0m: \tdecoderLayers: 12\n",
      "\u001b[34m\u001b[1mwandb\u001b[0m: \tdropout: 0.1\n",
      "\u001b[34m\u001b[1mwandb\u001b[0m: \tembSize: 64\n",
      "\u001b[34m\u001b[1mwandb\u001b[0m: \tencoderLayers: 1\n",
      "\u001b[34m\u001b[1mwandb\u001b[0m: \tepochs: 25\n",
      "\u001b[34m\u001b[1mwandb\u001b[0m: \thiddenLayerNuerons: 512\n",
      "\u001b[34m\u001b[1mwandb\u001b[0m: \tlearningRate: 0.001\n",
      "\u001b[34m\u001b[1mwandb\u001b[0m: \toptimizer: Nadam\n",
      "\u001b[34m\u001b[1mwandb\u001b[0m: \ttf_ratio: 0.7\n"
     ]
    },
    {
     "data": {
      "text/html": [
       "Ignoring project 'CS23S025-Assignment-3-DL' when running a sweep."
      ],
      "text/plain": [
       "<IPython.core.display.HTML object>"
      ]
     },
     "metadata": {},
     "output_type": "display_data"
    },
    {
     "data": {
      "text/html": [
       "Tracking run with wandb version 0.19.9"
      ],
      "text/plain": [
       "<IPython.core.display.HTML object>"
      ]
     },
     "metadata": {},
     "output_type": "display_data"
    },
    {
     "data": {
      "text/html": [
       "Run data is saved locally in <code>/kaggle/working/wandb/run-20250517_223537-t9c593qo</code>"
      ],
      "text/plain": [
       "<IPython.core.display.HTML object>"
      ]
     },
     "metadata": {},
     "output_type": "display_data"
    },
    {
     "data": {
      "text/html": [
       "Syncing run <strong><a href='https://wandb.ai/cs23s025-indian-institute-of-technology-madras/CS23S025-Assignment-3-DL/runs/t9c593qo' target=\"_blank\">gallant-sweep-95</a></strong> to <a href='https://wandb.ai/cs23s025-indian-institute-of-technology-madras/CS23S025-Assignment-3-DL' target=\"_blank\">Weights & Biases</a> (<a href='https://wandb.me/developer-guide' target=\"_blank\">docs</a>)<br>Sweep page: <a href='https://wandb.ai/cs23s025-indian-institute-of-technology-madras/CS23S025-Assignment-3-DL/sweeps/92mo9e7w' target=\"_blank\">https://wandb.ai/cs23s025-indian-institute-of-technology-madras/CS23S025-Assignment-3-DL/sweeps/92mo9e7w</a>"
      ],
      "text/plain": [
       "<IPython.core.display.HTML object>"
      ]
     },
     "metadata": {},
     "output_type": "display_data"
    },
    {
     "data": {
      "text/html": [
       " View project at <a href='https://wandb.ai/cs23s025-indian-institute-of-technology-madras/CS23S025-Assignment-3-DL' target=\"_blank\">https://wandb.ai/cs23s025-indian-institute-of-technology-madras/CS23S025-Assignment-3-DL</a>"
      ],
      "text/plain": [
       "<IPython.core.display.HTML object>"
      ]
     },
     "metadata": {},
     "output_type": "display_data"
    },
    {
     "data": {
      "text/html": [
       " View sweep at <a href='https://wandb.ai/cs23s025-indian-institute-of-technology-madras/CS23S025-Assignment-3-DL/sweeps/92mo9e7w' target=\"_blank\">https://wandb.ai/cs23s025-indian-institute-of-technology-madras/CS23S025-Assignment-3-DL/sweeps/92mo9e7w</a>"
      ],
      "text/plain": [
       "<IPython.core.display.HTML object>"
      ]
     },
     "metadata": {},
     "output_type": "display_data"
    },
    {
     "data": {
      "text/html": [
       " View run at <a href='https://wandb.ai/cs23s025-indian-institute-of-technology-madras/CS23S025-Assignment-3-DL/runs/t9c593qo' target=\"_blank\">https://wandb.ai/cs23s025-indian-institute-of-technology-madras/CS23S025-Assignment-3-DL/runs/t9c593qo</a>"
      ],
      "text/plain": [
       "<IPython.core.display.HTML object>"
      ]
     },
     "metadata": {},
     "output_type": "display_data"
    },
    {
     "data": {
      "text/html": [],
      "text/plain": [
       "<IPython.core.display.HTML object>"
      ]
     },
     "metadata": {},
     "output_type": "display_data"
    },
    {
     "data": {
      "text/html": [
       "<br>    <style><br>        .wandb-row {<br>            display: flex;<br>            flex-direction: row;<br>            flex-wrap: wrap;<br>            justify-content: flex-start;<br>            width: 100%;<br>        }<br>        .wandb-col {<br>            display: flex;<br>            flex-direction: column;<br>            flex-basis: 100%;<br>            flex: 1;<br>            padding: 10px;<br>        }<br>    </style><br><div class=\"wandb-row\"><div class=\"wandb-col\"><h3>Run history:</h3><br/><table class=\"wandb\"><tr><td>train_accuracy</td><td>▁▅▆▅▆▆▇▅▆▆▆▇▇▆█▇▇▇▇▆▇▆▇▇▇</td></tr><tr><td>train_loss</td><td>█▃▂▄▂▂▁▂▂▂▂▁▁▂▁▂▁▁▁▂▁▂▁▁▂</td></tr><tr><td>validation_accuracy</td><td>▅▄▇█▆▄▄▄▅▇▆▂▄▁▅▆▅▇▄▄▄▅█▄▄</td></tr><tr><td>validation_char_accuracy</td><td>▃▃▇▇▅▃▄▄▅▇▆▂▄▁▆▆▅▇▄▄▄▄█▄▃</td></tr><tr><td>validation_loss</td><td>▇█▃▂▄▆▅▆▄▂▃▇▅█▃▄▄▂▅▅▆▅▁▅▆</td></tr></table><br/></div><div class=\"wandb-col\"><h3>Run summary:</h3><br/><table class=\"wandb\"><tr><td>train_accuracy</td><td>0.71062</td></tr><tr><td>train_loss</td><td>0.15608</td></tr><tr><td>validation_accuracy</td><td>0.67944</td></tr><tr><td>validation_char_accuracy</td><td>0.94913</td></tr><tr><td>validation_loss</td><td>0.16683</td></tr></table><br/></div></div>"
      ],
      "text/plain": [
       "<IPython.core.display.HTML object>"
      ]
     },
     "metadata": {},
     "output_type": "display_data"
    },
    {
     "data": {
      "text/html": [
       " View run <strong style=\"color:#cdcd00\">embedding64_cellTypeRNN_batchSize32</strong> at: <a href='https://wandb.ai/cs23s025-indian-institute-of-technology-madras/CS23S025-Assignment-3-DL/runs/t9c593qo' target=\"_blank\">https://wandb.ai/cs23s025-indian-institute-of-technology-madras/CS23S025-Assignment-3-DL/runs/t9c593qo</a><br> View project at: <a href='https://wandb.ai/cs23s025-indian-institute-of-technology-madras/CS23S025-Assignment-3-DL' target=\"_blank\">https://wandb.ai/cs23s025-indian-institute-of-technology-madras/CS23S025-Assignment-3-DL</a><br>Synced 5 W&B file(s), 0 media file(s), 0 artifact file(s) and 0 other file(s)"
      ],
      "text/plain": [
       "<IPython.core.display.HTML object>"
      ]
     },
     "metadata": {},
     "output_type": "display_data"
    },
    {
     "data": {
      "text/html": [
       "Find logs at: <code>./wandb/run-20250517_223537-t9c593qo/logs</code>"
      ],
      "text/plain": [
       "<IPython.core.display.HTML object>"
      ]
     },
     "metadata": {},
     "output_type": "display_data"
    },
    {
     "name": "stderr",
     "output_type": "stream",
     "text": [
      "\u001b[34m\u001b[1mwandb\u001b[0m: Agent Starting Run: 9sjk79ad with config:\n",
      "\u001b[34m\u001b[1mwandb\u001b[0m: \tbatchsize: 64\n",
      "\u001b[34m\u001b[1mwandb\u001b[0m: \tbidirection: Yes\n",
      "\u001b[34m\u001b[1mwandb\u001b[0m: \tcellType: GRU\n",
      "\u001b[34m\u001b[1mwandb\u001b[0m: \tdecoderLayers: 1\n",
      "\u001b[34m\u001b[1mwandb\u001b[0m: \tdropout: 0\n",
      "\u001b[34m\u001b[1mwandb\u001b[0m: \tembSize: 16\n",
      "\u001b[34m\u001b[1mwandb\u001b[0m: \tencoderLayers: 1\n",
      "\u001b[34m\u001b[1mwandb\u001b[0m: \tepochs: 20\n",
      "\u001b[34m\u001b[1mwandb\u001b[0m: \thiddenLayerNuerons: 512\n",
      "\u001b[34m\u001b[1mwandb\u001b[0m: \tlearningRate: 0.0001\n",
      "\u001b[34m\u001b[1mwandb\u001b[0m: \toptimizer: Adam\n",
      "\u001b[34m\u001b[1mwandb\u001b[0m: \ttf_ratio: 0.5\n"
     ]
    },
    {
     "data": {
      "text/html": [
       "Ignoring project 'CS23S025-Assignment-3-DL' when running a sweep."
      ],
      "text/plain": [
       "<IPython.core.display.HTML object>"
      ]
     },
     "metadata": {},
     "output_type": "display_data"
    },
    {
     "data": {
      "text/html": [
       "Tracking run with wandb version 0.19.9"
      ],
      "text/plain": [
       "<IPython.core.display.HTML object>"
      ]
     },
     "metadata": {},
     "output_type": "display_data"
    },
    {
     "data": {
      "text/html": [
       "Run data is saved locally in <code>/kaggle/working/wandb/run-20250517_232537-9sjk79ad</code>"
      ],
      "text/plain": [
       "<IPython.core.display.HTML object>"
      ]
     },
     "metadata": {},
     "output_type": "display_data"
    },
    {
     "data": {
      "text/html": [
       "Syncing run <strong><a href='https://wandb.ai/cs23s025-indian-institute-of-technology-madras/CS23S025-Assignment-3-DL/runs/9sjk79ad' target=\"_blank\">clear-sweep-99</a></strong> to <a href='https://wandb.ai/cs23s025-indian-institute-of-technology-madras/CS23S025-Assignment-3-DL' target=\"_blank\">Weights & Biases</a> (<a href='https://wandb.me/developer-guide' target=\"_blank\">docs</a>)<br>Sweep page: <a href='https://wandb.ai/cs23s025-indian-institute-of-technology-madras/CS23S025-Assignment-3-DL/sweeps/92mo9e7w' target=\"_blank\">https://wandb.ai/cs23s025-indian-institute-of-technology-madras/CS23S025-Assignment-3-DL/sweeps/92mo9e7w</a>"
      ],
      "text/plain": [
       "<IPython.core.display.HTML object>"
      ]
     },
     "metadata": {},
     "output_type": "display_data"
    },
    {
     "data": {
      "text/html": [
       " View project at <a href='https://wandb.ai/cs23s025-indian-institute-of-technology-madras/CS23S025-Assignment-3-DL' target=\"_blank\">https://wandb.ai/cs23s025-indian-institute-of-technology-madras/CS23S025-Assignment-3-DL</a>"
      ],
      "text/plain": [
       "<IPython.core.display.HTML object>"
      ]
     },
     "metadata": {},
     "output_type": "display_data"
    },
    {
     "data": {
      "text/html": [
       " View sweep at <a href='https://wandb.ai/cs23s025-indian-institute-of-technology-madras/CS23S025-Assignment-3-DL/sweeps/92mo9e7w' target=\"_blank\">https://wandb.ai/cs23s025-indian-institute-of-technology-madras/CS23S025-Assignment-3-DL/sweeps/92mo9e7w</a>"
      ],
      "text/plain": [
       "<IPython.core.display.HTML object>"
      ]
     },
     "metadata": {},
     "output_type": "display_data"
    },
    {
     "data": {
      "text/html": [
       " View run at <a href='https://wandb.ai/cs23s025-indian-institute-of-technology-madras/CS23S025-Assignment-3-DL/runs/9sjk79ad' target=\"_blank\">https://wandb.ai/cs23s025-indian-institute-of-technology-madras/CS23S025-Assignment-3-DL/runs/9sjk79ad</a>"
      ],
      "text/plain": [
       "<IPython.core.display.HTML object>"
      ]
     },
     "metadata": {},
     "output_type": "display_data"
    },
    {
     "data": {
      "text/html": [],
      "text/plain": [
       "<IPython.core.display.HTML object>"
      ]
     },
     "metadata": {},
     "output_type": "display_data"
    },
    {
     "data": {
      "text/html": [
       "<br>    <style><br>        .wandb-row {<br>            display: flex;<br>            flex-direction: row;<br>            flex-wrap: wrap;<br>            justify-content: flex-start;<br>            width: 100%;<br>        }<br>        .wandb-col {<br>            display: flex;<br>            flex-direction: column;<br>            flex-basis: 100%;<br>            flex: 1;<br>            padding: 10px;<br>        }<br>    </style><br><div class=\"wandb-row\"><div class=\"wandb-col\"><h3>Run history:</h3><br/><table class=\"wandb\"><tr><td>train_accuracy</td><td>▁▁▃▅▅▅▆▆▇▇▇▇▇▇▇▇████</td></tr><tr><td>train_loss</td><td>█▅▄▃▃▂▂▂▂▂▂▁▁▁▁▁▁▁▁▁</td></tr><tr><td>validation_accuracy</td><td>▁▂▄▆▆▅▆▆▇▆██▇▆▆█▇█▇▇</td></tr><tr><td>validation_char_accuracy</td><td>▁▄▅▇▆▆▆▇▇▆███▇▇█▇█▇▇</td></tr><tr><td>validation_loss</td><td>█▅▅▃▃▃▃▂▂▂▁▁▁▂▂▁▁▁▂▁</td></tr></table><br/></div><div class=\"wandb-col\"><h3>Run summary:</h3><br/><table class=\"wandb\"><tr><td>train_accuracy</td><td>0.55242</td></tr><tr><td>train_loss</td><td>0.2035</td></tr><tr><td>validation_accuracy</td><td>0.44676</td></tr><tr><td>validation_char_accuracy</td><td>0.92191</td></tr><tr><td>validation_loss</td><td>0.2549</td></tr></table><br/></div></div>"
      ],
      "text/plain": [
       "<IPython.core.display.HTML object>"
      ]
     },
     "metadata": {},
     "output_type": "display_data"
    },
    {
     "data": {
      "text/html": [
       " View run <strong style=\"color:#cdcd00\">embedding16_cellTypeGRU_batchSize64</strong> at: <a href='https://wandb.ai/cs23s025-indian-institute-of-technology-madras/CS23S025-Assignment-3-DL/runs/9sjk79ad' target=\"_blank\">https://wandb.ai/cs23s025-indian-institute-of-technology-madras/CS23S025-Assignment-3-DL/runs/9sjk79ad</a><br> View project at: <a href='https://wandb.ai/cs23s025-indian-institute-of-technology-madras/CS23S025-Assignment-3-DL' target=\"_blank\">https://wandb.ai/cs23s025-indian-institute-of-technology-madras/CS23S025-Assignment-3-DL</a><br>Synced 5 W&B file(s), 0 media file(s), 0 artifact file(s) and 0 other file(s)"
      ],
      "text/plain": [
       "<IPython.core.display.HTML object>"
      ]
     },
     "metadata": {},
     "output_type": "display_data"
    },
    {
     "data": {
      "text/html": [
       "Find logs at: <code>./wandb/run-20250517_232537-9sjk79ad/logs</code>"
      ],
      "text/plain": [
       "<IPython.core.display.HTML object>"
      ]
     },
     "metadata": {},
     "output_type": "display_data"
    },
    {
     "name": "stderr",
     "output_type": "stream",
     "text": [
      "\u001b[34m\u001b[1mwandb\u001b[0m: Agent Starting Run: 92opy09k with config:\n",
      "\u001b[34m\u001b[1mwandb\u001b[0m: \tbatchsize: 32\n",
      "\u001b[34m\u001b[1mwandb\u001b[0m: \tbidirection: no\n",
      "\u001b[34m\u001b[1mwandb\u001b[0m: \tcellType: RNN\n",
      "\u001b[34m\u001b[1mwandb\u001b[0m: \tdecoderLayers: 10\n",
      "\u001b[34m\u001b[1mwandb\u001b[0m: \tdropout: 0.5\n",
      "\u001b[34m\u001b[1mwandb\u001b[0m: \tembSize: 16\n",
      "\u001b[34m\u001b[1mwandb\u001b[0m: \tencoderLayers: 1\n",
      "\u001b[34m\u001b[1mwandb\u001b[0m: \tepochs: 20\n",
      "\u001b[34m\u001b[1mwandb\u001b[0m: \thiddenLayerNuerons: 256\n",
      "\u001b[34m\u001b[1mwandb\u001b[0m: \tlearningRate: 0.0001\n",
      "\u001b[34m\u001b[1mwandb\u001b[0m: \toptimizer: Nadam\n",
      "\u001b[34m\u001b[1mwandb\u001b[0m: \ttf_ratio: 0.7\n"
     ]
    },
    {
     "data": {
      "text/html": [
       "Ignoring project 'CS23S025-Assignment-3-DL' when running a sweep."
      ],
      "text/plain": [
       "<IPython.core.display.HTML object>"
      ]
     },
     "metadata": {},
     "output_type": "display_data"
    },
    {
     "data": {
      "text/html": [
       "Tracking run with wandb version 0.19.9"
      ],
      "text/plain": [
       "<IPython.core.display.HTML object>"
      ]
     },
     "metadata": {},
     "output_type": "display_data"
    },
    {
     "data": {
      "text/html": [
       "Run data is saved locally in <code>/kaggle/working/wandb/run-20250517_234701-92opy09k</code>"
      ],
      "text/plain": [
       "<IPython.core.display.HTML object>"
      ]
     },
     "metadata": {},
     "output_type": "display_data"
    },
    {
     "data": {
      "text/html": [
       "Syncing run <strong><a href='https://wandb.ai/cs23s025-indian-institute-of-technology-madras/CS23S025-Assignment-3-DL/runs/92opy09k' target=\"_blank\">fiery-sweep-100</a></strong> to <a href='https://wandb.ai/cs23s025-indian-institute-of-technology-madras/CS23S025-Assignment-3-DL' target=\"_blank\">Weights & Biases</a> (<a href='https://wandb.me/developer-guide' target=\"_blank\">docs</a>)<br>Sweep page: <a href='https://wandb.ai/cs23s025-indian-institute-of-technology-madras/CS23S025-Assignment-3-DL/sweeps/92mo9e7w' target=\"_blank\">https://wandb.ai/cs23s025-indian-institute-of-technology-madras/CS23S025-Assignment-3-DL/sweeps/92mo9e7w</a>"
      ],
      "text/plain": [
       "<IPython.core.display.HTML object>"
      ]
     },
     "metadata": {},
     "output_type": "display_data"
    },
    {
     "data": {
      "text/html": [
       " View project at <a href='https://wandb.ai/cs23s025-indian-institute-of-technology-madras/CS23S025-Assignment-3-DL' target=\"_blank\">https://wandb.ai/cs23s025-indian-institute-of-technology-madras/CS23S025-Assignment-3-DL</a>"
      ],
      "text/plain": [
       "<IPython.core.display.HTML object>"
      ]
     },
     "metadata": {},
     "output_type": "display_data"
    },
    {
     "data": {
      "text/html": [
       " View sweep at <a href='https://wandb.ai/cs23s025-indian-institute-of-technology-madras/CS23S025-Assignment-3-DL/sweeps/92mo9e7w' target=\"_blank\">https://wandb.ai/cs23s025-indian-institute-of-technology-madras/CS23S025-Assignment-3-DL/sweeps/92mo9e7w</a>"
      ],
      "text/plain": [
       "<IPython.core.display.HTML object>"
      ]
     },
     "metadata": {},
     "output_type": "display_data"
    },
    {
     "data": {
      "text/html": [
       " View run at <a href='https://wandb.ai/cs23s025-indian-institute-of-technology-madras/CS23S025-Assignment-3-DL/runs/92opy09k' target=\"_blank\">https://wandb.ai/cs23s025-indian-institute-of-technology-madras/CS23S025-Assignment-3-DL/runs/92opy09k</a>"
      ],
      "text/plain": [
       "<IPython.core.display.HTML object>"
      ]
     },
     "metadata": {},
     "output_type": "display_data"
    },
    {
     "data": {
      "text/html": [],
      "text/plain": [
       "<IPython.core.display.HTML object>"
      ]
     },
     "metadata": {},
     "output_type": "display_data"
    },
    {
     "data": {
      "text/html": [
       "<br>    <style><br>        .wandb-row {<br>            display: flex;<br>            flex-direction: row;<br>            flex-wrap: wrap;<br>            justify-content: flex-start;<br>            width: 100%;<br>        }<br>        .wandb-col {<br>            display: flex;<br>            flex-direction: column;<br>            flex-basis: 100%;<br>            flex: 1;<br>            padding: 10px;<br>        }<br>    </style><br><div class=\"wandb-row\"><div class=\"wandb-col\"><h3>Run history:</h3><br/><table class=\"wandb\"><tr><td>train_accuracy</td><td>▁▂▅▆▇▇▇▇▇▇██▇███████</td></tr><tr><td>train_loss</td><td>█▅▃▃▂▂▂▂▁▁▁▁▁▁▁▁▁▁▁▁</td></tr><tr><td>validation_accuracy</td><td>▁▄▆▇▇█▇▆▇▇█▇▇██▇██▇█</td></tr><tr><td>validation_char_accuracy</td><td>▁▄▆▇▇▇▇▇▇▇█▇▇██▇██▇█</td></tr><tr><td>validation_loss</td><td>█▅▃▂▂▁▂▂▂▁▁▂▁▁▁▂▁▁▁▁</td></tr></table><br/></div><div class=\"wandb-col\"><h3>Run summary:</h3><br/><table class=\"wandb\"><tr><td>train_accuracy</td><td>0.69144</td></tr><tr><td>train_loss</td><td>0.14144</td></tr><tr><td>validation_accuracy</td><td>0.68518</td></tr><tr><td>validation_char_accuracy</td><td>0.96227</td></tr><tr><td>validation_loss</td><td>0.13617</td></tr></table><br/></div></div>"
      ],
      "text/plain": [
       "<IPython.core.display.HTML object>"
      ]
     },
     "metadata": {},
     "output_type": "display_data"
    },
    {
     "data": {
      "text/html": [
       " View run <strong style=\"color:#cdcd00\">embedding16_cellTypeRNN_batchSize32</strong> at: <a href='https://wandb.ai/cs23s025-indian-institute-of-technology-madras/CS23S025-Assignment-3-DL/runs/92opy09k' target=\"_blank\">https://wandb.ai/cs23s025-indian-institute-of-technology-madras/CS23S025-Assignment-3-DL/runs/92opy09k</a><br> View project at: <a href='https://wandb.ai/cs23s025-indian-institute-of-technology-madras/CS23S025-Assignment-3-DL' target=\"_blank\">https://wandb.ai/cs23s025-indian-institute-of-technology-madras/CS23S025-Assignment-3-DL</a><br>Synced 5 W&B file(s), 0 media file(s), 0 artifact file(s) and 0 other file(s)"
      ],
      "text/plain": [
       "<IPython.core.display.HTML object>"
      ]
     },
     "metadata": {},
     "output_type": "display_data"
    },
    {
     "data": {
      "text/html": [
       "Find logs at: <code>./wandb/run-20250517_234701-92opy09k/logs</code>"
      ],
      "text/plain": [
       "<IPython.core.display.HTML object>"
      ]
     },
     "metadata": {},
     "output_type": "display_data"
    },
    {
     "name": "stderr",
     "output_type": "stream",
     "text": [
      "\u001b[34m\u001b[1mwandb\u001b[0m: Agent Starting Run: 7sef9g9q with config:\n",
      "\u001b[34m\u001b[1mwandb\u001b[0m: \tbatchsize: 32\n",
      "\u001b[34m\u001b[1mwandb\u001b[0m: \tbidirection: no\n",
      "\u001b[34m\u001b[1mwandb\u001b[0m: \tcellType: RNN\n",
      "\u001b[34m\u001b[1mwandb\u001b[0m: \tdecoderLayers: 5\n",
      "\u001b[34m\u001b[1mwandb\u001b[0m: \tdropout: 0\n",
      "\u001b[34m\u001b[1mwandb\u001b[0m: \tembSize: 32\n",
      "\u001b[34m\u001b[1mwandb\u001b[0m: \tencoderLayers: 1\n",
      "\u001b[34m\u001b[1mwandb\u001b[0m: \tepochs: 20\n",
      "\u001b[34m\u001b[1mwandb\u001b[0m: \thiddenLayerNuerons: 256\n",
      "\u001b[34m\u001b[1mwandb\u001b[0m: \tlearningRate: 0.0001\n",
      "\u001b[34m\u001b[1mwandb\u001b[0m: \toptimizer: Nadam\n",
      "\u001b[34m\u001b[1mwandb\u001b[0m: \ttf_ratio: 0.7\n"
     ]
    },
    {
     "data": {
      "text/html": [
       "Ignoring project 'CS23S025-Assignment-3-DL' when running a sweep."
      ],
      "text/plain": [
       "<IPython.core.display.HTML object>"
      ]
     },
     "metadata": {},
     "output_type": "display_data"
    },
    {
     "data": {
      "text/html": [
       "Tracking run with wandb version 0.19.9"
      ],
      "text/plain": [
       "<IPython.core.display.HTML object>"
      ]
     },
     "metadata": {},
     "output_type": "display_data"
    },
    {
     "data": {
      "text/html": [
       "Run data is saved locally in <code>/kaggle/working/wandb/run-20250518_002515-7sef9g9q</code>"
      ],
      "text/plain": [
       "<IPython.core.display.HTML object>"
      ]
     },
     "metadata": {},
     "output_type": "display_data"
    },
    {
     "data": {
      "text/html": [
       "Syncing run <strong><a href='https://wandb.ai/cs23s025-indian-institute-of-technology-madras/CS23S025-Assignment-3-DL/runs/7sef9g9q' target=\"_blank\">fanciful-sweep-102</a></strong> to <a href='https://wandb.ai/cs23s025-indian-institute-of-technology-madras/CS23S025-Assignment-3-DL' target=\"_blank\">Weights & Biases</a> (<a href='https://wandb.me/developer-guide' target=\"_blank\">docs</a>)<br>Sweep page: <a href='https://wandb.ai/cs23s025-indian-institute-of-technology-madras/CS23S025-Assignment-3-DL/sweeps/92mo9e7w' target=\"_blank\">https://wandb.ai/cs23s025-indian-institute-of-technology-madras/CS23S025-Assignment-3-DL/sweeps/92mo9e7w</a>"
      ],
      "text/plain": [
       "<IPython.core.display.HTML object>"
      ]
     },
     "metadata": {},
     "output_type": "display_data"
    },
    {
     "data": {
      "text/html": [
       " View project at <a href='https://wandb.ai/cs23s025-indian-institute-of-technology-madras/CS23S025-Assignment-3-DL' target=\"_blank\">https://wandb.ai/cs23s025-indian-institute-of-technology-madras/CS23S025-Assignment-3-DL</a>"
      ],
      "text/plain": [
       "<IPython.core.display.HTML object>"
      ]
     },
     "metadata": {},
     "output_type": "display_data"
    },
    {
     "data": {
      "text/html": [
       " View sweep at <a href='https://wandb.ai/cs23s025-indian-institute-of-technology-madras/CS23S025-Assignment-3-DL/sweeps/92mo9e7w' target=\"_blank\">https://wandb.ai/cs23s025-indian-institute-of-technology-madras/CS23S025-Assignment-3-DL/sweeps/92mo9e7w</a>"
      ],
      "text/plain": [
       "<IPython.core.display.HTML object>"
      ]
     },
     "metadata": {},
     "output_type": "display_data"
    },
    {
     "data": {
      "text/html": [
       " View run at <a href='https://wandb.ai/cs23s025-indian-institute-of-technology-madras/CS23S025-Assignment-3-DL/runs/7sef9g9q' target=\"_blank\">https://wandb.ai/cs23s025-indian-institute-of-technology-madras/CS23S025-Assignment-3-DL/runs/7sef9g9q</a>"
      ],
      "text/plain": [
       "<IPython.core.display.HTML object>"
      ]
     },
     "metadata": {},
     "output_type": "display_data"
    },
    {
     "data": {
      "text/html": [],
      "text/plain": [
       "<IPython.core.display.HTML object>"
      ]
     },
     "metadata": {},
     "output_type": "display_data"
    },
    {
     "data": {
      "text/html": [
       "<br>    <style><br>        .wandb-row {<br>            display: flex;<br>            flex-direction: row;<br>            flex-wrap: wrap;<br>            justify-content: flex-start;<br>            width: 100%;<br>        }<br>        .wandb-col {<br>            display: flex;<br>            flex-direction: column;<br>            flex-basis: 100%;<br>            flex: 1;<br>            padding: 10px;<br>        }<br>    </style><br><div class=\"wandb-row\"><div class=\"wandb-col\"><h3>Run history:</h3><br/><table class=\"wandb\"><tr><td>train_accuracy</td><td>▁▅▇▇▇▇▇▇▇▇▇█████████</td></tr><tr><td>train_loss</td><td>█▄▂▂▂▂▂▁▁▁▁▁▁▁▁▁▁▁▁▁</td></tr><tr><td>validation_accuracy</td><td>▁▅▆▆▇▇▆▇▇█▆▇▆▇▇█▇█▇▇</td></tr><tr><td>validation_char_accuracy</td><td>▁▄▅▆▇▇▆▇▇█▆▇▆▇▇███▇█</td></tr><tr><td>validation_loss</td><td>█▅▃▂▂▂▂▂▂▁▂▁▂▁▁▁▁▁▁▁</td></tr></table><br/></div><div class=\"wandb-col\"><h3>Run summary:</h3><br/><table class=\"wandb\"><tr><td>train_accuracy</td><td>0.74779</td></tr><tr><td>train_loss</td><td>0.09829</td></tr><tr><td>validation_accuracy</td><td>0.73061</td></tr><tr><td>validation_char_accuracy</td><td>0.96739</td></tr><tr><td>validation_loss</td><td>0.10757</td></tr></table><br/></div></div>"
      ],
      "text/plain": [
       "<IPython.core.display.HTML object>"
      ]
     },
     "metadata": {},
     "output_type": "display_data"
    },
    {
     "data": {
      "text/html": [
       " View run <strong style=\"color:#cdcd00\">embedding32_cellTypeRNN_batchSize32</strong> at: <a href='https://wandb.ai/cs23s025-indian-institute-of-technology-madras/CS23S025-Assignment-3-DL/runs/7sef9g9q' target=\"_blank\">https://wandb.ai/cs23s025-indian-institute-of-technology-madras/CS23S025-Assignment-3-DL/runs/7sef9g9q</a><br> View project at: <a href='https://wandb.ai/cs23s025-indian-institute-of-technology-madras/CS23S025-Assignment-3-DL' target=\"_blank\">https://wandb.ai/cs23s025-indian-institute-of-technology-madras/CS23S025-Assignment-3-DL</a><br>Synced 5 W&B file(s), 0 media file(s), 0 artifact file(s) and 0 other file(s)"
      ],
      "text/plain": [
       "<IPython.core.display.HTML object>"
      ]
     },
     "metadata": {},
     "output_type": "display_data"
    },
    {
     "data": {
      "text/html": [
       "Find logs at: <code>./wandb/run-20250518_002515-7sef9g9q/logs</code>"
      ],
      "text/plain": [
       "<IPython.core.display.HTML object>"
      ]
     },
     "metadata": {},
     "output_type": "display_data"
    },
    {
     "name": "stderr",
     "output_type": "stream",
     "text": [
      "\u001b[34m\u001b[1mwandb\u001b[0m: Agent Starting Run: xkxgp2we with config:\n",
      "\u001b[34m\u001b[1mwandb\u001b[0m: \tbatchsize: 64\n",
      "\u001b[34m\u001b[1mwandb\u001b[0m: \tbidirection: no\n",
      "\u001b[34m\u001b[1mwandb\u001b[0m: \tcellType: RNN\n",
      "\u001b[34m\u001b[1mwandb\u001b[0m: \tdecoderLayers: 15\n",
      "\u001b[34m\u001b[1mwandb\u001b[0m: \tdropout: 0.1\n",
      "\u001b[34m\u001b[1mwandb\u001b[0m: \tembSize: 32\n",
      "\u001b[34m\u001b[1mwandb\u001b[0m: \tencoderLayers: 1\n",
      "\u001b[34m\u001b[1mwandb\u001b[0m: \tepochs: 20\n",
      "\u001b[34m\u001b[1mwandb\u001b[0m: \thiddenLayerNuerons: 512\n",
      "\u001b[34m\u001b[1mwandb\u001b[0m: \tlearningRate: 0.0001\n",
      "\u001b[34m\u001b[1mwandb\u001b[0m: \toptimizer: Nadam\n",
      "\u001b[34m\u001b[1mwandb\u001b[0m: \ttf_ratio: 0.7\n"
     ]
    },
    {
     "data": {
      "text/html": [
       "Ignoring project 'CS23S025-Assignment-3-DL' when running a sweep."
      ],
      "text/plain": [
       "<IPython.core.display.HTML object>"
      ]
     },
     "metadata": {},
     "output_type": "display_data"
    },
    {
     "data": {
      "text/html": [
       "Tracking run with wandb version 0.19.9"
      ],
      "text/plain": [
       "<IPython.core.display.HTML object>"
      ]
     },
     "metadata": {},
     "output_type": "display_data"
    },
    {
     "data": {
      "text/html": [
       "Run data is saved locally in <code>/kaggle/working/wandb/run-20250518_010221-xkxgp2we</code>"
      ],
      "text/plain": [
       "<IPython.core.display.HTML object>"
      ]
     },
     "metadata": {},
     "output_type": "display_data"
    },
    {
     "data": {
      "text/html": [
       "Syncing run <strong><a href='https://wandb.ai/cs23s025-indian-institute-of-technology-madras/CS23S025-Assignment-3-DL/runs/xkxgp2we' target=\"_blank\">polar-sweep-105</a></strong> to <a href='https://wandb.ai/cs23s025-indian-institute-of-technology-madras/CS23S025-Assignment-3-DL' target=\"_blank\">Weights & Biases</a> (<a href='https://wandb.me/developer-guide' target=\"_blank\">docs</a>)<br>Sweep page: <a href='https://wandb.ai/cs23s025-indian-institute-of-technology-madras/CS23S025-Assignment-3-DL/sweeps/92mo9e7w' target=\"_blank\">https://wandb.ai/cs23s025-indian-institute-of-technology-madras/CS23S025-Assignment-3-DL/sweeps/92mo9e7w</a>"
      ],
      "text/plain": [
       "<IPython.core.display.HTML object>"
      ]
     },
     "metadata": {},
     "output_type": "display_data"
    },
    {
     "data": {
      "text/html": [
       " View project at <a href='https://wandb.ai/cs23s025-indian-institute-of-technology-madras/CS23S025-Assignment-3-DL' target=\"_blank\">https://wandb.ai/cs23s025-indian-institute-of-technology-madras/CS23S025-Assignment-3-DL</a>"
      ],
      "text/plain": [
       "<IPython.core.display.HTML object>"
      ]
     },
     "metadata": {},
     "output_type": "display_data"
    },
    {
     "data": {
      "text/html": [
       " View sweep at <a href='https://wandb.ai/cs23s025-indian-institute-of-technology-madras/CS23S025-Assignment-3-DL/sweeps/92mo9e7w' target=\"_blank\">https://wandb.ai/cs23s025-indian-institute-of-technology-madras/CS23S025-Assignment-3-DL/sweeps/92mo9e7w</a>"
      ],
      "text/plain": [
       "<IPython.core.display.HTML object>"
      ]
     },
     "metadata": {},
     "output_type": "display_data"
    },
    {
     "data": {
      "text/html": [
       " View run at <a href='https://wandb.ai/cs23s025-indian-institute-of-technology-madras/CS23S025-Assignment-3-DL/runs/xkxgp2we' target=\"_blank\">https://wandb.ai/cs23s025-indian-institute-of-technology-madras/CS23S025-Assignment-3-DL/runs/xkxgp2we</a>"
      ],
      "text/plain": [
       "<IPython.core.display.HTML object>"
      ]
     },
     "metadata": {},
     "output_type": "display_data"
    },
    {
     "data": {
      "text/html": [],
      "text/plain": [
       "<IPython.core.display.HTML object>"
      ]
     },
     "metadata": {},
     "output_type": "display_data"
    },
    {
     "data": {
      "text/html": [
       "<br>    <style><br>        .wandb-row {<br>            display: flex;<br>            flex-direction: row;<br>            flex-wrap: wrap;<br>            justify-content: flex-start;<br>            width: 100%;<br>        }<br>        .wandb-col {<br>            display: flex;<br>            flex-direction: column;<br>            flex-basis: 100%;<br>            flex: 1;<br>            padding: 10px;<br>        }<br>    </style><br><div class=\"wandb-row\"><div class=\"wandb-col\"><h3>Run history:</h3><br/><table class=\"wandb\"><tr><td>train_accuracy</td><td>▁▃▆▆▇▇▇▇▇▇▇▇████████</td></tr><tr><td>train_loss</td><td>█▄▃▂▂▂▂▂▁▁▁▁▁▁▁▁▁▁▁▁</td></tr><tr><td>validation_accuracy</td><td>▁▅▆▆▇▆▇▇▇▇▇▇▇▇▇█████</td></tr><tr><td>validation_char_accuracy</td><td>▁▅▆▇▇▆▇▇▇▇▇▇▇▇▇█████</td></tr><tr><td>validation_loss</td><td>█▄▃▂▂▂▂▂▂▂▂▂▂▂▂▁▁▁▁▁</td></tr></table><br/></div><div class=\"wandb-col\"><h3>Run summary:</h3><br/><table class=\"wandb\"><tr><td>train_accuracy</td><td>0.77639</td></tr><tr><td>train_loss</td><td>0.08553</td></tr><tr><td>validation_accuracy</td><td>0.76824</td></tr><tr><td>validation_char_accuracy</td><td>0.97274</td></tr><tr><td>validation_loss</td><td>0.08943</td></tr></table><br/></div></div>"
      ],
      "text/plain": [
       "<IPython.core.display.HTML object>"
      ]
     },
     "metadata": {},
     "output_type": "display_data"
    },
    {
     "data": {
      "text/html": [
       " View run <strong style=\"color:#cdcd00\">embedding32_cellTypeRNN_batchSize64</strong> at: <a href='https://wandb.ai/cs23s025-indian-institute-of-technology-madras/CS23S025-Assignment-3-DL/runs/xkxgp2we' target=\"_blank\">https://wandb.ai/cs23s025-indian-institute-of-technology-madras/CS23S025-Assignment-3-DL/runs/xkxgp2we</a><br> View project at: <a href='https://wandb.ai/cs23s025-indian-institute-of-technology-madras/CS23S025-Assignment-3-DL' target=\"_blank\">https://wandb.ai/cs23s025-indian-institute-of-technology-madras/CS23S025-Assignment-3-DL</a><br>Synced 5 W&B file(s), 0 media file(s), 0 artifact file(s) and 0 other file(s)"
      ],
      "text/plain": [
       "<IPython.core.display.HTML object>"
      ]
     },
     "metadata": {},
     "output_type": "display_data"
    },
    {
     "data": {
      "text/html": [
       "Find logs at: <code>./wandb/run-20250518_010221-xkxgp2we/logs</code>"
      ],
      "text/plain": [
       "<IPython.core.display.HTML object>"
      ]
     },
     "metadata": {},
     "output_type": "display_data"
    },
    {
     "name": "stderr",
     "output_type": "stream",
     "text": [
      "\u001b[34m\u001b[1mwandb\u001b[0m: Sweep Agent: Waiting for job.\n",
      "\u001b[34m\u001b[1mwandb\u001b[0m: Job received.\n",
      "\u001b[34m\u001b[1mwandb\u001b[0m: Agent Starting Run: 12rjf1gl with config:\n",
      "\u001b[34m\u001b[1mwandb\u001b[0m: \tbatchsize: 32\n",
      "\u001b[34m\u001b[1mwandb\u001b[0m: \tbidirection: no\n",
      "\u001b[34m\u001b[1mwandb\u001b[0m: \tcellType: RNN\n",
      "\u001b[34m\u001b[1mwandb\u001b[0m: \tdecoderLayers: 12\n",
      "\u001b[34m\u001b[1mwandb\u001b[0m: \tdropout: 0.2\n",
      "\u001b[34m\u001b[1mwandb\u001b[0m: \tembSize: 16\n",
      "\u001b[34m\u001b[1mwandb\u001b[0m: \tencoderLayers: 1\n",
      "\u001b[34m\u001b[1mwandb\u001b[0m: \tepochs: 15\n",
      "\u001b[34m\u001b[1mwandb\u001b[0m: \thiddenLayerNuerons: 512\n",
      "\u001b[34m\u001b[1mwandb\u001b[0m: \tlearningRate: 0.0001\n",
      "\u001b[34m\u001b[1mwandb\u001b[0m: \toptimizer: Nadam\n",
      "\u001b[34m\u001b[1mwandb\u001b[0m: \ttf_ratio: 0.7\n"
     ]
    },
    {
     "data": {
      "text/html": [
       "Ignoring project 'CS23S025-Assignment-3-DL' when running a sweep."
      ],
      "text/plain": [
       "<IPython.core.display.HTML object>"
      ]
     },
     "metadata": {},
     "output_type": "display_data"
    },
    {
     "data": {
      "text/html": [
       "Tracking run with wandb version 0.19.9"
      ],
      "text/plain": [
       "<IPython.core.display.HTML object>"
      ]
     },
     "metadata": {},
     "output_type": "display_data"
    },
    {
     "data": {
      "text/html": [
       "Run data is saved locally in <code>/kaggle/working/wandb/run-20250518_012224-12rjf1gl</code>"
      ],
      "text/plain": [
       "<IPython.core.display.HTML object>"
      ]
     },
     "metadata": {},
     "output_type": "display_data"
    },
    {
     "data": {
      "text/html": [
       "Syncing run <strong><a href='https://wandb.ai/cs23s025-indian-institute-of-technology-madras/CS23S025-Assignment-3-DL/runs/12rjf1gl' target=\"_blank\">hearty-sweep-106</a></strong> to <a href='https://wandb.ai/cs23s025-indian-institute-of-technology-madras/CS23S025-Assignment-3-DL' target=\"_blank\">Weights & Biases</a> (<a href='https://wandb.me/developer-guide' target=\"_blank\">docs</a>)<br>Sweep page: <a href='https://wandb.ai/cs23s025-indian-institute-of-technology-madras/CS23S025-Assignment-3-DL/sweeps/92mo9e7w' target=\"_blank\">https://wandb.ai/cs23s025-indian-institute-of-technology-madras/CS23S025-Assignment-3-DL/sweeps/92mo9e7w</a>"
      ],
      "text/plain": [
       "<IPython.core.display.HTML object>"
      ]
     },
     "metadata": {},
     "output_type": "display_data"
    },
    {
     "data": {
      "text/html": [
       " View project at <a href='https://wandb.ai/cs23s025-indian-institute-of-technology-madras/CS23S025-Assignment-3-DL' target=\"_blank\">https://wandb.ai/cs23s025-indian-institute-of-technology-madras/CS23S025-Assignment-3-DL</a>"
      ],
      "text/plain": [
       "<IPython.core.display.HTML object>"
      ]
     },
     "metadata": {},
     "output_type": "display_data"
    },
    {
     "data": {
      "text/html": [
       " View sweep at <a href='https://wandb.ai/cs23s025-indian-institute-of-technology-madras/CS23S025-Assignment-3-DL/sweeps/92mo9e7w' target=\"_blank\">https://wandb.ai/cs23s025-indian-institute-of-technology-madras/CS23S025-Assignment-3-DL/sweeps/92mo9e7w</a>"
      ],
      "text/plain": [
       "<IPython.core.display.HTML object>"
      ]
     },
     "metadata": {},
     "output_type": "display_data"
    },
    {
     "data": {
      "text/html": [
       " View run at <a href='https://wandb.ai/cs23s025-indian-institute-of-technology-madras/CS23S025-Assignment-3-DL/runs/12rjf1gl' target=\"_blank\">https://wandb.ai/cs23s025-indian-institute-of-technology-madras/CS23S025-Assignment-3-DL/runs/12rjf1gl</a>"
      ],
      "text/plain": [
       "<IPython.core.display.HTML object>"
      ]
     },
     "metadata": {},
     "output_type": "display_data"
    }
   ],
   "source": [
    "\n",
    "def train_model():\n",
    "    # Initialize wandb run first\n",
    "    with wandb.init(project='CS23S025-Assignment-3-DL') as run:\n",
    "        config = wandb.config\n",
    "\n",
    "        # Dynamically name the run after initialization\n",
    "        run.name = f\"embedding{config.embSize}_cellType{config.cellType}_batchSize{config.batchsize}\"\n",
    "        # Call your training logic\n",
    "        train(\n",
    "             embSize=config.embSize,\n",
    "            encoderLayers=config.encoderLayers,\n",
    "            decoderLayers=config.decoderLayers,\n",
    "            hiddenLayerNuerons=config.hiddenLayerNuerons,\n",
    "            cellType=config.cellType,\n",
    "            bidirection=config.bidirection,\n",
    "            dropout=config.dropout,\n",
    "            epochs=config.epochs,\n",
    "            batchsize=config.batchsize,\n",
    "            learningRate=config.learningRate,\n",
    "            optimizer=config.optimizer,\n",
    "            tf_ratio=config.tf_ratio\n",
    "        )\n",
    "\n",
    "# Define sweep configuration\n",
    "sweep_config = {\n",
    "    'method': 'bayes',\n",
    "    'name': 'Assignment_3_with_Attention_new',\n",
    "    'metric': {\n",
    "        'goal': 'maximize',\n",
    "        'name': 'validation_accuracy',\n",
    "    },\n",
    "    'parameters': {\n",
    "        'embSize': {'values': [16, 32, 64,128,256]},\n",
    "        'encoderLayers': {'values': [1, 5, 10]},\n",
    "        'decoderLayers': {'values': [1, 5, 10,12,15]},\n",
    "        'hiddenLayerNuerons': {'values': [64, 256, 512]},\n",
    "        'cellType': {'values': ['GRU', 'RNN']},\n",
    "        'bidirection': {'values': ['no', 'Yes']},\n",
    "        'dropout': {'values': [0, 0.1,0.2,0.5]},\n",
    "        'epochs': {'values': [15,20,25,30]},\n",
    "        'batchsize': {'values': [32, 64,128]},\n",
    "        'learningRate': {'values': [1e-2, 1e-3, 1e-4]},\n",
    "        'optimizer': {'values': ['Adam', 'Nadam']},\n",
    "        'tf_ratio': {'values': [0.2, 0.4, 0.5,0.7]}\n",
    "    }\n",
    "}\n",
    "\n",
    "# Create the sweep\n",
    "#sweep_id = wandb.sweep(sweep=sweep_config, project='CS23S025-Assignment-3-DL')\n",
    "\n",
    "# Launch the sweep agent (make sure to update the entity if needed)\n",
    "wandb.agent(\"92mo9e7w\",\n",
    "    function=train_model,\n",
    "    count=25,  # or however many runs you want\n",
    "    entity=\"cs23s025-indian-institute-of-technology-madras\",\n",
    "    project=\"CS23S025-Assignment-3-DL\"\n",
    ")\n"
   ]
  }
 ],
 "metadata": {
  "kaggle": {
   "accelerator": "gpu",
   "dataSources": [
    {
     "datasetId": 7433313,
     "sourceId": 11832167,
     "sourceType": "datasetVersion"
    }
   ],
   "dockerImageVersionId": 31040,
   "isGpuEnabled": true,
   "isInternetEnabled": true,
   "language": "python",
   "sourceType": "notebook"
  },
  "kernelspec": {
   "display_name": "Python 3",
   "language": "python",
   "name": "python3"
  },
  "language_info": {
   "codemirror_mode": {
    "name": "ipython",
    "version": 3
   },
   "file_extension": ".py",
   "mimetype": "text/x-python",
   "name": "python",
   "nbconvert_exporter": "python",
   "pygments_lexer": "ipython3",
   "version": "3.11.11"
  }
 },
 "nbformat": 4,
 "nbformat_minor": 4
}
